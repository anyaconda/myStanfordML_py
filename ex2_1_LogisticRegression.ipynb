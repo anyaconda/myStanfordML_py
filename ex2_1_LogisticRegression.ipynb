{
 "cells": [
  {
   "cell_type": "code",
   "execution_count": 1,
   "metadata": {},
   "outputs": [],
   "source": [
    "#meta: 4/26/2020 Ex2.  Logistic regression.  \n",
    "# Multivariate logistic regression - predict whether a student gets admitted to a university.  \n",
    "# src Coursera, Standford ML course - refactor in python\n",
    "# src for markup  https://github.com/dibgerge/ml-coursera-python-assignments.git\n",
    "#see ex2.pdf\n",
    "#Numbering per original assignments\n",
    "\n",
    "#here 04/26/2020 Logistic Regression\n",
    "#      numpy for data load (not pandas)\n",
    "#      Sigmoid function: use for binary classification.\n",
    "#      Vectorized implementattion of Cost function, Gradient, Predictions.\n",
    "#      Interpret the modle\n",
    "#      Visualise data before and after modeling, draw the Decision Boundary.\n"
   ]
  },
  {
   "cell_type": "code",
   "execution_count": 2,
   "metadata": {},
   "outputs": [],
   "source": [
    "import numpy as np\n",
    "\n",
    "# Plot\n",
    "import matplotlib.pyplot as plt\n",
    "%matplotlib inline\n",
    "from scipy.interpolate import make_interp_spline, BSpline #to smooth the line between points\n",
    "\n",
    "# Optimization module in scipy\n",
    "from scipy import optimize"
   ]
  },
  {
   "cell_type": "markdown",
   "metadata": {},
   "source": [
    "## 0. Warm-up\n",
    "\n",
    "### 1.2.1 Sigmoid function\n",
    "\n",
    "\n",
    "The logistic regression hypothesis is defined as:\n",
    "\n",
    "$$ h_\\theta(x) = g(\\theta^T x)$$\n",
    "\n",
    "where function $g$ is the sigmoid function. The sigmoid function is defined as: \n",
    "\n",
    "$$g(z) = \\frac{1}{1+e^{-z}}$$."
   ]
  },
  {
   "cell_type": "code",
   "execution_count": 3,
   "metadata": {},
   "outputs": [],
   "source": [
    "#$mathcode:  \n",
    "# math.e**(x) equals to np.exp(x)\n",
    "#np.exp(1) returns e which is 2.718281828459045"
   ]
  },
  {
   "cell_type": "code",
   "execution_count": 4,
   "metadata": {},
   "outputs": [],
   "source": [
    "def sigmoid(z):\n",
    "    \"\"\" function sigmoid\n",
    "    Input  \n",
    "    z - scalar, vector, or matrix shape (n+1, m)\n",
    "    Output\n",
    "    sigmoid function - scalar, vector or matrix\n",
    "    \"\"\"\n",
    "    \n",
    "    return  1 / (1 + np.exp(-z))\n"
   ]
  },
  {
   "cell_type": "markdown",
   "metadata": {},
   "source": [
    "Test sigmoid function: \n",
    " - for large positive values, the sigmoid should be close to 1   \n",
    " - for large negative values, the sigmoid should be close to 0   \n",
    " - evaluating `sigmoid(0)` should give you exactly 0.5"
   ]
  },
  {
   "cell_type": "code",
   "execution_count": 5,
   "metadata": {},
   "outputs": [
    {
     "data": {
      "text/plain": [
       "array([1. , 0.5, 0. ])"
      ]
     },
     "execution_count": 5,
     "metadata": {},
     "output_type": "execute_result"
    }
   ],
   "source": [
    "#verify sigmoid works with scalar, vector and matrix\n",
    "#z = 1\n",
    "z = np.array([1000,0,-1000])\n",
    "#z = np.array([[1000,0,-1000],[10,0,-10]])\n",
    "\n",
    "sigmoid(z)"
   ]
  },
  {
   "cell_type": "code",
   "execution_count": 6,
   "metadata": {},
   "outputs": [
    {
     "data": {
      "image/png": "[encoded data removed]",
      "text/plain": [
       "<Figure size 432x288 with 1 Axes>"
      ]
     },
     "metadata": {},
     "output_type": "display_data"
    }
   ],
   "source": [
    "#visualize sigmoid function\n",
    "z = np.arange(-20, 20, 1)\n",
    "y = sigmoid(z)\n",
    "\n",
    "#plot smooth sigmoid \n",
    "z_smooth = np.linspace(np.array(z).min(), np.array(z).max(), 50)\n",
    "spl = make_interp_spline(np.array(z), np.array(y), k=3)  # type: BSpline\n",
    "y_smooth = spl(z_smooth)\n",
    "\n",
    "#plot\n",
    "plt.title(\"Sigmoid function\")\n",
    "plt.plot(z, y, 'o')\n",
    "plt.plot(z_smooth, y_smooth, '-')\n",
    "plt.yticks([0,0.5,1])\n",
    "plt.show()"
   ]
  },
  {
   "cell_type": "markdown",
   "metadata": {},
   "source": [
    "# 1. Logistic Regression\n",
    "\n",
    "Build a logistic regression model to predict whether a student gets admitted into a university. \n",
    "\n",
    "## Predict University Admissions\n",
    "Suppose that you are the administrator of a university department and you want to determine each applicant’s chance of admission based on their results on two exams. You have historical data from previous applicants that you can use as a training set for logistic regression. For each training example, you have the applicant’s scores on two exams and the admissions decision.  \n",
    "\n",
    "Dataset:  \n",
    "*x* - scores on two exams  \n",
    "*y* - admissions decision  \n",
    "\n",
    "Your task is to build a classification model that estimates an applicant’s probability of admission based the scores from those two exams. \n",
    "\n",
    "## 1.0 Load Data\n",
    "\n",
    "Dims: m x n  => records x features"
   ]
  },
  {
   "cell_type": "code",
   "execution_count": 7,
   "metadata": {},
   "outputs": [
    {
     "name": "stdout",
     "output_type": "stream",
     "text": [
      "(100, 3)\n",
      "Preview data\n"
     ]
    },
    {
     "data": {
      "text/plain": [
       "array([[34.62365962, 78.02469282,  0.        ],\n",
       "       [30.28671077, 43.89499752,  0.        ],\n",
       "       [35.84740877, 72.90219803,  0.        ],\n",
       "       [60.18259939, 86.3085521 ,  1.        ],\n",
       "       [79.03273605, 75.34437644,  1.        ]])"
      ]
     },
     "execution_count": 7,
     "metadata": {},
     "output_type": "execute_result"
    }
   ],
   "source": [
    "data = np.loadtxt('data/ex2/ex2data1.txt', delimiter=',',skiprows=0) #unpack=True\n",
    "print(data.shape)\n",
    "\n",
    "#preview data\n",
    "print(\"Preview data\")\n",
    "data[0:5]\n"
   ]
  },
  {
   "cell_type": "markdown",
   "metadata": {},
   "source": [
    "## 1.1 Visualizing the data\n",
    "Get acquainted with the learning dataset."
   ]
  },
  {
   "cell_type": "code",
   "execution_count": 8,
   "metadata": {},
   "outputs": [
    {
     "name": "stdout",
     "output_type": "stream",
     "text": [
      "Number of data points: 100\n"
     ]
    }
   ],
   "source": [
    "#prep data\n",
    "X=data[:,[0,1]]\n",
    "y=data[:, 2]\n",
    "print (\"Number of data points: {}\".format(y.size))\n",
    "\n",
    "#find admitted vs not admitted\n",
    "idx_admitted = np.where(y==1,True, False) #class numpy.ndarray\n",
    "#X[~idx_admitted, 0]x[0, ~idx_admitted]\n"
   ]
  },
  {
   "cell_type": "code",
   "execution_count": 9,
   "metadata": {},
   "outputs": [
    {
     "data": {
      "image/png": "[encoded data removed]",
      "text/plain": [
       "<Figure size 720x576 with 1 Axes>"
      ]
     },
     "metadata": {},
     "output_type": "display_data"
    }
   ],
   "source": [
    "#plot\n",
    "plt.figure(figsize=(10,8))\n",
    "plt.title('University Admissions Based on Grades')\n",
    "\n",
    "plt.plot(X[idx_admitted, 0], X[idx_admitted, 1], 'g+', label='Admitted')\n",
    "plt.plot(X[~idx_admitted, 0], X[~idx_admitted, 1], 'rx', label='Not')\n",
    "\n",
    "plt.xlabel('Exam 1 Score')\n",
    "plt.ylabel ('Exam 2 Score')\n",
    "plt.legend()\n",
    "plt.show()"
   ]
  },
  {
   "cell_type": "markdown",
   "metadata": {},
   "source": [
    "## 1.2 Implementation - Gradient Descent\n",
    "\n",
    "Recall that the cost function in logistic regression is\n",
    "\n",
    "$$ J(\\theta) = \\frac{1}{m} \\sum_{i=1}^{m} \\left[ -y^{(i)} \\log\\left(h_\\theta\\left( x^{(i)} \\right) \\right) - \\left( 1 - y^{(i)}\\right) \\log \\left( 1 - h_\\theta\\left( x^{(i)} \\right) \\right) \\right]$$\n",
    "\n",
    "and the gradient of the cost is a vector of the same length as $\\theta$ where the $j^{th}$\n",
    "element (for $j = 0, 1, \\cdots , n$) is defined as follows:\n",
    "\n",
    "$$ \\frac{\\partial J(\\theta)}{\\partial \\theta_j} = \\frac{1}{m} \\sum_{i=1}^m \\left( h_\\theta \\left( x^{(i)} \\right) - y^{(i)} \\right) x_j^{(i)} $$\n",
    "\n",
    "Note that while this gradient looks identical to the linear regression gradient, the formula is actually different because linear and logistic regression have different definitions of $h_\\theta(x)$.\n",
    "<a id=\"costFunction\"></a>\n"
   ]
  },
  {
   "cell_type": "markdown",
   "metadata": {},
   "source": [
    "\n",
    "### 1.2.2 Cost function and gradient\n",
    "\n",
    "Implement the cost function and gradient for logistic regression.  \n"
   ]
  },
  {
   "cell_type": "code",
   "execution_count": 10,
   "metadata": {},
   "outputs": [],
   "source": [
    "# return the cost and gradient\n",
    "# note: lecture        X dims: n x m => h = g(theta.T * X) \n",
    "#       vs \n",
    "#       here reversing X dims: m x n => h = g(X * theta)\n",
    "\n",
    "def costFunction(theta, X, y):\n",
    "    \"\"\"\n",
    "    Compute cost and gradient for logistic regression. \n",
    "    \n",
    "    Parameters\n",
    "    ----------\n",
    "    theta : array_like\n",
    "        The parameters for logistic regression. This a vector of shape (n+1, ).\n",
    "    \n",
    "    X : array_like\n",
    "        The input dataset of shape (m x n+1) where \n",
    "        m = total number of data points and \n",
    "        n = number of features. \n",
    "        We assume the intercept has already been added to the input.\n",
    "    \n",
    "    y : array_like\n",
    "        Labels for the input. This is a vector of shape (m, ).\n",
    "    \n",
    "    Returns\n",
    "    -------\n",
    "    J : float\n",
    "        The computed value for the cost function. \n",
    "    \n",
    "    grad : array_like\n",
    "        A vector of shape (n+1, ) which is the gradient of the cost J with respect to theta, at the current values of theta.\n",
    "        \n",
    "    Instructions\n",
    "    ------------\n",
    "    Compute J cost of a particular choice of theta.\n",
    "    Compute the partial derivatives and set grad to the partial derivatives of the cost w.r.t. each param in theta.\n",
    "    \n",
    "    myNotes revised\n",
    "    ========= \n",
    "    y_hat = X * theta => (m, n+1) x (n+1, ) x  => shape (m, )     (same as y)\n",
    "    error = y_hat - y =>                          shape (m, )     (same as y)\n",
    "    gradient = vector                             shape (n+1, )   (same as theta)\n",
    "    X.T * (error/m) => (n+1, m) x (m, 1) =>       shape (n+1, ) \n",
    "\n",
    "    to multiply: use np.dot(X, theta)\n",
    "    \n",
    "    myNotes previously\n",
    "    ========= \n",
    "    y_hat = theta.T * X => (1, n+1) x (n+1, m) => shape (1, m)     (same as y)\n",
    "    error = y_hat - y   =>                        shape (1, m)     (same as y)\n",
    "    gradient = vector                             shape (n+1, )    (same as theta)\n",
    "    X * (error/m).T => (n+1, m) x (m, 1) =>       shape  n+1, ) \n",
    "\n",
    "    to multiply: use np.dot(theta.T, X)\n",
    "    refer: https://docs.scipy.org/doc/numpy/reference/generated/numpy.dot.html\n",
    "    \"\"\"\n",
    "    # Initialize vars\n",
    "    m = y.size  # number of training examples\n",
    "\n",
    "    # Return the following variables correctly \n",
    "    J = 0\n",
    "    grad = np.zeros(theta.shape)\n",
    "\n",
    "    # ====================== YOUR CODE HERE ======================\n",
    "    #compute hypothesis\n",
    "    #for linear regression was: y_hat = np.dot( theta.T, X )\n",
    "    #for logistic regression would be: y_hat = sigmoid( np.dot(theta.T, X ))\n",
    "    #reversing X dims: \n",
    "    y_hat = sigmoid( np.dot(X, theta))\n",
    "     \n",
    "    #compute cost  \n",
    "    part1 = -y * np.log(y_hat)\n",
    "    part2 = (1 - y) * np.log(1 - y_hat)\n",
    "    J = (part1-part2).sum() / m\n",
    "    \n",
    "    #compute gradient -> hint: same dimension as theta, see myNotes\n",
    "    #error = y_hat - y\n",
    "    #grad = np.dot(X.T, (error/m)) \n",
    "    grad = np.dot(X.T, (y_hat - y)/m) #same dims as theta\n",
    "    \n",
    "    # =============================================================\n",
    "    return J, grad\n",
    "    "
   ]
  },
  {
   "cell_type": "markdown",
   "metadata": {},
   "source": [
    "<div class=\"alert alert-block alert-info\">\n",
    "**Implementation Note:**<br>\n",
    "Before proceeding we add the intercept term to X. \n",
    "</div>"
   ]
  },
  {
   "cell_type": "code",
   "execution_count": 11,
   "metadata": {},
   "outputs": [
    {
     "name": "stdout",
     "output_type": "stream",
     "text": [
      "# of features (no intercept):  2\n",
      "# of records:  100\n",
      "X shape with intercept term:  (100, 3)\n"
     ]
    },
    {
     "data": {
      "text/plain": [
       "array([[ 1.        , 34.62365962, 78.02469282],\n",
       "       [ 1.        , 30.28671077, 43.89499752],\n",
       "       [ 1.        , 35.84740877, 72.90219803],\n",
       "       [ 1.        , 60.18259939, 86.3085521 ],\n",
       "       [ 1.        , 79.03273605, 75.34437644]])"
      ]
     },
     "execution_count": 11,
     "metadata": {},
     "output_type": "execute_result"
    }
   ],
   "source": [
    "# Setup the data matrix appropriately, and add ones for the intercept term\n",
    "m, n = X.shape\n",
    "\n",
    "print('# of features (no intercept): ', n)\n",
    "print('# of records: ', m)\n",
    "\n",
    "# Add intercept term to X\n",
    "X = np.concatenate([np.ones((m, 1)), X], axis=1)\n",
    "print('X shape with intercept term: ', X.shape)\n",
    "#preview X\n",
    "X[:5]"
   ]
  },
  {
   "cell_type": "markdown",
   "metadata": {},
   "source": [
    "Compute and display initial cost and gradient. Additional check with non-zero theta."
   ]
  },
  {
   "cell_type": "code",
   "execution_count": 12,
   "metadata": {},
   "outputs": [
    {
     "name": "stdout",
     "output_type": "stream",
     "text": [
      "Theta shape:  (3,)\n",
      "X shape:  (100, 3)\n",
      "Cost at initial theta (zeros): 0.693\n",
      "Expected cost (approx): 0.693\n",
      "\n",
      "Gradient at initial theta (zeros):\n",
      "\t[-0.1000, -12.0092, -11.2628]\n",
      "Expected gradients (approx):\n",
      "\t[-0.1000, -12.0092, -11.2628]\n",
      "\n",
      "Cost at test theta: 0.218\n",
      "Expected cost (approx): 0.218\n",
      "\n",
      "Gradient at test theta:\n",
      "\t[0.043, 2.566, 2.647]\n",
      "Expected gradients (approx):\n",
      "\t[0.043, 2.566, 2.647]\n"
     ]
    }
   ],
   "source": [
    "# Initialize fitting parameters\n",
    "initial_theta = np.zeros(n+1)\n",
    "print(\"Theta shape: \", initial_theta.shape)\n",
    "print(\"X shape: \", X.shape)\n",
    "\n",
    "cost, grad = costFunction(initial_theta, X, y)\n",
    "\n",
    "print('Cost at initial theta (zeros): {:.3f}'.format(cost))\n",
    "print('Expected cost (approx): 0.693\\n')\n",
    "\n",
    "print('Gradient at initial theta (zeros):')\n",
    "print('\\t[{:.4f}, {:.4f}, {:.4f}]'.format(*grad))\n",
    "print('Expected gradients (approx):\\n\\t[-0.1000, -12.0092, -11.2628]\\n')\n",
    "\n",
    "# Compute and display cost and gradient with non-zero theta\n",
    "test_theta = np.array([-24, 0.2, 0.2])\n",
    "cost, grad = costFunction(test_theta, X, y)\n",
    "\n",
    "print('Cost at test theta: {:.3f}'.format(cost))\n",
    "print('Expected cost (approx): 0.218\\n')\n",
    "\n",
    "print('Gradient at test theta:')\n",
    "print('\\t[{:.3f}, {:.3f}, {:.3f}]'.format(*grad))\n",
    "print('Expected gradients (approx):\\n\\t[0.043, 2.566, 2.647]')"
   ]
  },
  {
   "cell_type": "markdown",
   "metadata": {},
   "source": [
    "### 1.2.3 Learning parameters using `scipy.optimize`\n",
    "\n",
    "In the previous assignment, you found the optimal parameters of a linear regression model by implementing gradient descent. You wrote a cost function and calculated its gradient, then took a gradient descent step accordingly. This time, instead of taking gradient descent steps, you will use the [`scipy.optimize` module](https://docs.scipy.org/doc/scipy/reference/optimize.html). SciPy is a numerical computing library for `python`. It provides an optimization module for root finding and minimization. As of `scipy 1.0`, the function `scipy.optimize.minimize` is the method to use for optimization problems(both constrained and unconstrained).\n",
    "\n",
    "For logistic regression, you want to optimize the cost function $J(\\theta)$ with parameters $\\theta$.\n",
    "Concretely, you are going to use `optimize.minimize` to find the best parameters $\\theta$ for the logistic regression cost function, given a fixed dataset (of X and y values). You will pass to `optimize.minimize` the following inputs:\n",
    "- `costFunction`: A cost function that, when given the training set and a particular $\\theta$, computes the logistic regression cost and gradient with respect to $\\theta$ for the dataset (X, y). It is important to note that we only pass the name of the function without the parenthesis. This indicates that we are only providing a reference to this function, and not evaluating the result from this function.\n",
    "- `initial_theta`: The initial values of the parameters we are trying to optimize.\n",
    "- `(X, y)`: These are additional arguments to the cost function.\n",
    "- `jac`: Indication if the cost function returns the Jacobian (gradient) along with cost value. (True)\n",
    "- `method`: Optimization method/algorithm to use\n",
    "- `options`: Additional options which might be specific to the specific optimization method. In the following, we only tell the algorithm the maximum number of iterations before it terminates.\n",
    "\n",
    "If you have completed the `costFunction` correctly, `optimize.minimize` will converge on the right optimization parameters and return the final values of the cost and $\\theta$ in a class object. Notice that by using `optimize.minimize`, you did not have to write any loops yourself, or set a learning rate like you did for gradient descent. This is all done by `optimize.minimize`: you only needed to provide a function calculating the cost and the gradient.\n",
    "\n",
    "In the following, we already have code written to call `optimize.minimize` with the correct arguments."
   ]
  },
  {
   "cell_type": "code",
   "execution_count": 13,
   "metadata": {},
   "outputs": [
    {
     "name": "stdout",
     "output_type": "stream",
     "text": [
      "Cost at theta found by optimize.minimize: 0.203\n",
      "Expected cost (approx): 0.203\n",
      "\n",
      "theta:\n",
      "\t[-25.161, 0.206, 0.201]\n",
      "Expected theta (approx):\n",
      "\t[-25.161, 0.206, 0.201]\n"
     ]
    }
   ],
   "source": [
    "# set options for optimize.minimize\n",
    "options= {'maxiter': 400}\n",
    "\n",
    "# see documention for scipy's optimize.minimize  for description about\n",
    "# the different parameters\n",
    "# The function returns an object `OptimizeResult`\n",
    "# We use truncated Newton algorithm for optimization which is \n",
    "# equivalent to MATLAB's fminunc\n",
    "# See https://stackoverflow.com/questions/18801002/fminunc-alternate-in-numpy\n",
    "res = optimize.minimize(costFunction,\n",
    "                        initial_theta,\n",
    "                        (X, y),\n",
    "                        jac=True,\n",
    "                        method='TNC',\n",
    "                        options=options)\n",
    "\n",
    "# the fun property of `OptimizeResult` object returns\n",
    "# the value of costFunction at optimized theta\n",
    "cost = res.fun\n",
    "\n",
    "# the optimized theta is in the x property\n",
    "theta = res.x\n",
    "\n",
    "# Print theta to screen\n",
    "print('Cost at theta found by optimize.minimize: {:.3f}'.format(cost))\n",
    "print('Expected cost (approx): 0.203\\n');\n",
    "\n",
    "print('theta:')\n",
    "print('\\t[{:.3f}, {:.3f}, {:.3f}]'.format(*theta))\n",
    "print('Expected theta (approx):\\n\\t[-25.161, 0.206, 0.201]')"
   ]
  },
  {
   "cell_type": "markdown",
   "metadata": {},
   "source": [
    "Once `optimize.minimize` completes, we want to use the final value for $\\theta$ to visualize the decision boundary on the training data as shown in the figure below. \n",
    "\n",
    "![](Figures/decision_boundary1.png)\n",
    "\n",
    "To do so, we have written a function `plotDecisionBoundary` for plotting the decision boundary on top of training data. You do not need to write any code for plotting the decision boundary, but we also encourage you to look at the code in `plotDecisionBoundary` to see how to plot such a boundary using the $\\theta$ values. You can find this function in the `utils.py` file which comes with this assignment."
   ]
  },
  {
   "cell_type": "markdown",
   "metadata": {},
   "source": [
    "### 1.2.xtra Communicate Results - the Model\n",
    "Hypothesis $h_\\theta(x)$ is given by the logistic model"
   ]
  },
  {
   "cell_type": "code",
   "execution_count": 14,
   "metadata": {},
   "outputs": [
    {
     "name": "stdout",
     "output_type": "stream",
     "text": [
      "Logistic model after finding thetas: \n",
      "y_hat = -25.16 + 0.21 * x1 + 0.20 * x2\n"
     ]
    }
   ],
   "source": [
    "print(\"Logistic model after finding thetas: \")\n",
    "print (\"y_hat = {:.2f} + {:.2f} * x1 + {:.2f} * x2\".format( *theta))"
   ]
  },
  {
   "cell_type": "markdown",
   "metadata": {},
   "source": [
    "How to interpret the model\n",
    "#### Probability of admission =  -25.16 + 0.21 x exam1 + 0.20 x exam2\n"
   ]
  },
  {
   "cell_type": "markdown",
   "metadata": {},
   "source": [
    "\n",
    "### Plot Decision Boundary\n",
    "Note: plot manually"
   ]
  },
  {
   "cell_type": "code",
   "execution_count": 15,
   "metadata": {},
   "outputs": [
    {
     "data": {
      "image/png": "[encoded data removed]",
      "text/plain": [
       "<Figure size 720x576 with 1 Axes>"
      ]
     },
     "metadata": {},
     "output_type": "display_data"
    }
   ],
   "source": [
    "#plot points\n",
    "plt.figure(figsize=(10,8))\n",
    "plt.title('University Admissions Based on Grades')\n",
    "\n",
    "plt.plot(X[idx_admitted, 1], X[idx_admitted, 2], 'g+', label='Admitted')\n",
    "plt.plot(X[~idx_admitted, 1], X[~idx_admitted, 2], 'rx', label='Not')\n",
    "\n",
    "#plot decision boundary\n",
    "# src https://github.com/kaleko/CourseraML/blob/master/ex2/ex2.ipynb\n",
    "#Plotting the decision boundary: two points, draw a line between\n",
    "#Decision boundary occurs when h = 0, or when\n",
    "#theta0 + theta1*x1 + theta2*x2 = 0\n",
    "#y=mx+b is replaced by x2 = (-1/thetheta2)(theta0 + theta1*x1)\n",
    "boundary_xs = np.array([np.min(X[:,1]), np.max(X[:,1])])\n",
    "boundary_ys = (-1./theta[2])*(theta[0] + theta[1]*boundary_xs)\n",
    "plt.plot(boundary_xs, boundary_ys, 'b-', label = 'Decision boundary')\n",
    "\n",
    "plt.xlabel('Exam 1 Score')\n",
    "plt.ylabel ('Exam 2 Score')\n",
    "plt.legend()\n",
    "plt.show()"
   ]
  },
  {
   "cell_type": "markdown",
   "metadata": {},
   "source": [
    "### 1.2.4 Evaluating logistic regression\n",
    "\n",
    "After learning the parameters, you can use the model to predict whether a particular student will be admitted. For a student with an Exam 1 score of 45 and an Exam 2 score of 85, you should expect to see an admission\n",
    "probability of 0.776. "
   ]
  },
  {
   "cell_type": "code",
   "execution_count": 16,
   "metadata": {},
   "outputs": [
    {
     "name": "stdout",
     "output_type": "stream",
     "text": [
      "Probability of admission:  0.7762906225323448\n",
      "Prediction: True\n"
     ]
    }
   ],
   "source": [
    "#Predict probability for a student with score 45 on exam 1 and score 85 on exam 2 \n",
    "grades = np.array([1,45,85])\n",
    "p=sigmoid(np.dot(grades, theta))\n",
    "print(\"Probability of admission: \", p)\n",
    "print(\"Prediction:\", p >= 0.5)"
   ]
  },
  {
   "cell_type": "markdown",
   "metadata": {},
   "source": [
    "Another way to evaluate the quality of the parameters we have found is to see how well the learned model predicts on our training set. In this part, your task is to complete the code in function `predict`. The predict function will produce “1” or “0” predictions given a dataset and a learned parameter vector $\\theta$. \n"
   ]
  },
  {
   "cell_type": "code",
   "execution_count": 17,
   "metadata": {},
   "outputs": [],
   "source": [
    "def predict(theta, X):\n",
    "    \"\"\"\n",
    "    Predict whether the label is 0 or 1 using learned logistic regression.\n",
    "    Computes the predictions for X using a threshold at 0.5 \n",
    "    (i.e., if sigmoid(theta.T*x) >= 0.5, predict 1)\n",
    "    \n",
    "    Parameters\n",
    "    ----------\n",
    "    theta : array_like\n",
    "        Parameters for logistic regression. A vecotor of shape (n+1, ).\n",
    "    \n",
    "    X : array_like\n",
    "        The data to use for computing predictions. \n",
    "        Rows is the number of points to compute predictions\n",
    "        Columns is the number of features.\n",
    "\n",
    "    Returns\n",
    "    -------\n",
    "    p : array_like\n",
    "        Predictions and 0 or 1 for each row in X. \n",
    "    \"\"\"\n",
    "    \n",
    "    # init vars\n",
    "    m = X.shape[0] #Number of  examples\n",
    "    p = np.zeros(m) \n",
    "    \n",
    "    #compute predictions probability\n",
    "    p = sigmoid(np.dot(X, theta))\n",
    "    \n",
    "    return p >= 0.5"
   ]
  },
  {
   "cell_type": "code",
   "execution_count": 18,
   "metadata": {},
   "outputs": [
    {
     "data": {
      "text/plain": [
       "array([ True])"
      ]
     },
     "execution_count": 18,
     "metadata": {},
     "output_type": "execute_result"
    }
   ],
   "source": [
    "#test with a single student\n",
    "grades = np.array([[1,45,85]])\n",
    "predict(theta, grades)"
   ]
  },
  {
   "cell_type": "code",
   "execution_count": 19,
   "metadata": {},
   "outputs": [
    {
     "name": "stdout",
     "output_type": "stream",
     "text": [
      "Train Accuracy:  0.89\n",
      "Expected accuracy (approx): 89.0\n",
      "\n"
     ]
    }
   ],
   "source": [
    "#test with the whole training set\n",
    "y_hat = predict(theta, X);\n",
    "accuracy = (y_hat == y).mean()\n",
    "\n",
    "print('Train Accuracy: ', accuracy)\n",
    "print('Expected accuracy (approx): 89.0\\n');"
   ]
  }
 ],
 "metadata": {
  "kernelspec": {
   "display_name": "Python 3",
   "language": "python",
   "name": "python3"
  },
  "language_info": {
   "codemirror_mode": {
    "name": "ipython",
    "version": 3
   },
   "file_extension": ".py",
   "mimetype": "text/x-python",
   "name": "python",
   "nbconvert_exporter": "python",
   "pygments_lexer": "ipython3",
   "version": "3.6.7"
  }
 },
 "nbformat": 4,
 "nbformat_minor": 2
}
