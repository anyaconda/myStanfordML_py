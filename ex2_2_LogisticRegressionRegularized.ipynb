{
 "cells": [
  {
   "cell_type": "code",
   "execution_count": 1,
   "metadata": {},
   "outputs": [],
   "source": [
    "#meta: 4/28/2020 Ex2 Part2.  Logistic regression.  \n",
    "# Regularized logistic regression - predict whether microchips from a fabrication plant pass quality assurance.  \n",
    "# src Coursera, Standford ML course - refactor in python\n",
    "# src for markup  https://github.com/dibgerge/ml-coursera-python-assignments.git\n",
    "#see ex2.pdf\n",
    "#Numbering per original assignments\n",
    "\n",
    "#here 04/28/2020 Regularized Logistic Regression\n",
    "#      numpy for data load (not pandas)\n",
    "#      Feature engineering: polynomial features\n",
    "#      Reuse ML functions: myUtils.ml\n",
    "#      sigmoid(), predict(), costFunction().\n",
    "#      Modify Cost function - add regularization.\n",
    "#      Visualize data before and after modeling, draw the Decision Boundary.\n",
    "#      Compare regularized models with diff lambdas\n",
    "#      Compare regularized models with non-regularized\n"
   ]
  },
  {
   "cell_type": "code",
   "execution_count": 2,
   "metadata": {},
   "outputs": [],
   "source": [
    "import numpy as np\n",
    "\n",
    "# Plot\n",
    "import matplotlib.pyplot as plt\n",
    "%matplotlib inline\n",
    "\n",
    "# Optimization module in scipy\n",
    "from scipy import optimize\n",
    "\n",
    "#import my utils\n",
    "from myUtils import ml as myML  # my own module\n"
   ]
  },
  {
   "cell_type": "markdown",
   "metadata": {},
   "source": [
    "# 2. Regularized Logistic Regression\n",
    "\n",
    "Implement a regularized logistic regression  to predict whether microchips from a fabrication plant passes quality assurance. \n",
    "\n",
    "## Microchip Quality Assurance.\n",
    "During QA, each microchip goes through various tests to ensure it is functioning correctly.  Suppose you are the product manager of the factory and you have the test results for some microchips on two different tests. From these two tests, you would like to determine whether the microchips should be accepted or rejected. To help you make the decision, you have a dataset of test results on past microchips, from which you can build a logistic regression model.  \n",
    "\n",
    "Dataset:  \n",
    "*x* - two test scores  \n",
    "*y* - test result 1=accepted, 0=rejected  \n",
    "\n",
    "\n",
    "## 2.0 Load data\n",
    "\n",
    "Dims: m x n  => records x features"
   ]
  },
  {
   "cell_type": "code",
   "execution_count": 4,
   "metadata": {},
   "outputs": [
    {
     "name": "stdout",
     "output_type": "stream",
     "text": [
      "(118, 3)\n",
      "Preview data\n"
     ]
    },
    {
     "data": {
      "text/plain": [
       "array([[ 0.051267,  0.69956 ,  1.      ],\n",
       "       [-0.092742,  0.68494 ,  1.      ],\n",
       "       [-0.21371 ,  0.69225 ,  1.      ],\n",
       "       [-0.375   ,  0.50219 ,  1.      ],\n",
       "       [-0.51325 ,  0.46564 ,  1.      ]])"
      ]
     },
     "execution_count": 4,
     "metadata": {},
     "output_type": "execute_result"
    }
   ],
   "source": [
    "data = np.loadtxt('data/ex2/ex2data2.txt', delimiter=',',skiprows=0) #unpack=True\n",
    "print(data.shape)\n",
    "\n",
    "#preview data\n",
    "print(\"Preview data\")\n",
    "data[0:5]\n"
   ]
  },
  {
   "cell_type": "markdown",
   "metadata": {},
   "source": [
    "## 2.1 Visualizing the data\n",
    "Get acquainted with the learning dataset.  We see a figure, where the axes are the two test scores, and the positive (y = 1, accepted) and negative (y = 0, rejected) examples are shown with different markers."
   ]
  },
  {
   "cell_type": "code",
   "execution_count": 5,
   "metadata": {},
   "outputs": [
    {
     "name": "stdout",
     "output_type": "stream",
     "text": [
      "Number of data points: 118\n"
     ]
    }
   ],
   "source": [
    "#prep data\n",
    "X=data[:,[0,1]]\n",
    "y=data[:, 2]\n",
    "print (\"Number of data points: {}\".format(y.size))\n",
    "\n"
   ]
  },
  {
   "cell_type": "code",
   "execution_count": 6,
   "metadata": {},
   "outputs": [],
   "source": [
    "def plotData(X, y):\n",
    "    \"\"\"\n",
    "    Plot the positive and negative examples on a 2D plot\n",
    "\n",
    "    Parameters\n",
    "    ----------\n",
    "    X : array_like\n",
    "        Features, mxn matrix.\n",
    "        Data point values for both x and y axes.\n",
    "\n",
    "    y : array_like\n",
    "        Binary label values for the dataset. A vector of size (m, ).\n",
    "\n",
    "    \n",
    "    Instructions\n",
    "    ------------\n",
    "    Plot the positive and negative examples on a 2D plot, using the\n",
    "    option 'k*' for the positive examples and 'ko' for the negative examples.\n",
    "\n",
    "\n",
    "    Vis options\n",
    "    ----\n",
    "    'ro' red circles. \n",
    "    'ms'=10 larger marker size\n",
    "    'mec' marker edge color\n",
    "    \"\"\"\n",
    "\n",
    "    # ====================== CODE  ======================\n",
    "    \n",
    "    #find positive vs negative\n",
    "    idx_positive = np.where(y==1,True, False) #class numpy.ndarray\n",
    "    \n",
    "    plt.plot(X[idx_positive, 0], X[idx_positive, 1], 'k*', ms=7, label='Accepted')\n",
    "    plt.plot(X[~idx_positive, 0], X[~idx_positive, 1], 'yo', ms=7, label='Rejected')\n",
    "\n",
    "    # ============================================================"
   ]
  },
  {
   "cell_type": "code",
   "execution_count": 7,
   "metadata": {},
   "outputs": [
    {
     "data": {
      "image/png": "[encoded data removed]",
      "text/plain": [
       "<Figure size 576x576 with 1 Axes>"
      ]
     },
     "metadata": {},
     "output_type": "display_data"
    }
   ],
   "source": [
    "plt.figure(figsize=(8,8))\n",
    "plt.title('Microchip Test Results')\n",
    "plotData(X,y)\n",
    "plt.xlabel('Test 1')\n",
    "plt.ylabel ('Test 2')\n",
    "plt.legend()\n",
    "plt.show()"
   ]
  },
  {
   "cell_type": "markdown",
   "metadata": {},
   "source": [
    "The above figure shows that our dataset cannot be separated into positive and negative examples by a straight-line through the plot. Therefore, a straight-forward application of logistic regression will not perform well on this dataset since logistic regression will only be able to find a linear decision boundary.\n",
    "\n",
    "## 2.2 Feature mapping\n",
    "\n",
    "One way to fit the data better is to create more features from each data point. In the predefined function `mapFeature`, we will map the features into all polynomial terms of $x_1$ and $x_2$ up to the sixth power.\n",
    "\n",
    "$$ \\text{mapFeature}(x) = \\begin{bmatrix} 1 & x_1 & x_2 & x_1^2 & x_1 x_2 & x_2^2 & x_1^3 & \\dots & x_1 x_2^5 & x_2^6 \\end{bmatrix}^T $$\n"
   ]
  },
  {
   "cell_type": "code",
   "execution_count": 8,
   "metadata": {},
   "outputs": [],
   "source": [
    "def mapFeature(X1, X2, degree=6):\n",
    "    \"\"\"\n",
    "    Maps the two input features to quadratic features used in the regularization exercise.\n",
    "    Returns a new feature array with more features, comprising of\n",
    "    X1, X2, X1.^2, X2.^2, X1*X2, X1*X2.^2, etc..\n",
    "    Parameters\n",
    "    ----------\n",
    "    X1 : array_like\n",
    "        A vector of shape (m, 1), containing one feature for all examples.\n",
    "    X2 : array_like\n",
    "        A vector of shape (m, 1), containing a second feature for all examples.\n",
    "        Inputs X1, X2 must be the same size.\n",
    "    degree: int, optional\n",
    "        The polynomial degree.\n",
    "    Returns\n",
    "    -------\n",
    "    : array_like\n",
    "        A matrix of of m rows, and columns depend on the degree of polynomial.\n",
    "    \"\"\"\n",
    "    if X1.ndim > 0:\n",
    "        out = [np.ones(X1.shape[0])]\n",
    "    else:\n",
    "        out = [np.ones(1)]\n",
    "\n",
    "    for i in range(1, degree + 1):\n",
    "        for j in range(i + 1):\n",
    "            out.append((X1 ** (i - j)) * (X2 ** j))\n",
    "\n",
    "    if X1.ndim > 0:\n",
    "        return np.stack(out, axis=1)\n",
    "    else:\n",
    "        return np.array(out)"
   ]
  },
  {
   "cell_type": "code",
   "execution_count": 9,
   "metadata": {},
   "outputs": [
    {
     "name": "stdout",
     "output_type": "stream",
     "text": [
      "X shape:  (118, 28)\n"
     ]
    }
   ],
   "source": [
    "# add polynomial features\n",
    "# note: mapFeature also handles the intercept term by adding a column of 1s\n",
    "X = mapFeature(X[:,0], X[:,1])\n",
    "print(\"X shape: \", X.shape)"
   ]
  },
  {
   "cell_type": "markdown",
   "metadata": {},
   "source": [
    "As a result of this mapping, our vector of two features (the scores on two QA tests) has been transformed into a 28-dimensional vector. A logistic regression classifier trained on this higher-dimension feature vector will have a more complex decision boundary and will appear nonlinear when drawn in our 2-dimensional plot.\n",
    "While the feature mapping allows us to build a more expressive classifier, it also more susceptible to overfitting. In the next parts of the exercise, you will implement regularized logistic regression to fit the data and also see for yourself how regularization can help combat the overfitting problem.\n",
    "\n",
    "## 2.3 Cost function and gradient\n",
    "\n",
    "Now you will implement code to compute the cost function and gradient for regularized logistic regression. Complete the code for the function `costFunctionReg` below to return the cost and gradient.\n",
    "\n",
    "Recall that the regularized cost function in logistic regression is\n",
    "\n",
    "$$ J(\\theta) = \\frac{1}{m} \\sum_{i=1}^m \\left[ -y^{(i)}\\log \\left( h_\\theta \\left(x^{(i)} \\right) \\right) - \\left( 1 - y^{(i)} \\right) \\log \\left( 1 - h_\\theta \\left( x^{(i)} \\right) \\right) \\right] + \\frac{\\lambda}{2m} \\sum_{j=1}^n \\theta_j^2 $$\n",
    "\n",
    "Note that you should not regularize the parameters $\\theta_0$. The gradient of the cost function is a vector where the $j^{th}$ element is defined as follows:\n",
    "\n",
    "$$ \\frac{\\partial J(\\theta)}{\\partial \\theta_0} = \\frac{1}{m} \\sum_{i=1}^m \\left( h_\\theta \\left(x^{(i)}\\right) - y^{(i)} \\right) x_j^{(i)} \\qquad \\text{for } j =0 $$\n",
    "\n",
    "$$ \\frac{\\partial J(\\theta)}{\\partial \\theta_j} = \\left( \\frac{1}{m} \\sum_{i=1}^m \\left( h_\\theta \\left(x^{(i)}\\right) - y^{(i)} \\right) x_j^{(i)} \\right) + \\frac{\\lambda}{m}\\theta_j \\qquad \\text{for } j \\ge 1 $$\n",
    "<a id=\"costFunctionReg\"></a>\n"
   ]
  },
  {
   "cell_type": "code",
   "execution_count": 10,
   "metadata": {},
   "outputs": [],
   "source": [
    "# return the cost and gradient\n",
    "# note: lecture        X dims: n x m => h = g(theta.T * X) \n",
    "#       vs \n",
    "#       here reversing X dims: m x n => h = g(X * theta)\n",
    "\n",
    "def costFunctionReg(theta, X, y, lambda_=1):\n",
    "    \"\"\"\n",
    "    Compute cost and gradient for logistic regression with regularization. \n",
    "    \n",
    "    Parameters\n",
    "    ----------\n",
    "    theta : array_like\n",
    "        Logistic regression parameters. A vector with shape (n, ). \n",
    "        n = number of features including any intercept. \n",
    "        If we have mapped our initial features into polynomial features, then \n",
    "        n = the total number of polynomial features. \n",
    "    \n",
    "    X : array_like\n",
    "        The input dataset with shape (m x n) where \n",
    "        m = total number of data points and \n",
    "        n = number of features (after feature mapping). \n",
    "        We assume the intercept has already been added to the input.\n",
    "    \n",
    "    y : array_like\n",
    "        The data labels. A vector with shape (m, ).\n",
    "        \n",
    "    lambda_ : float\n",
    "        The regularization parameter.\n",
    "    \n",
    "    Returns\n",
    "    -------\n",
    "    J : float\n",
    "        The computed value for the regularized cost function. \n",
    "    \n",
    "    grad : array_like\n",
    "        A vector of shape (n, ) which is the gradient of the cost J with respect to theta, at the current values of theta.\n",
    "        \n",
    "    Instructions\n",
    "    ------------\n",
    "    Compute J cost of a particular choice of theta.\n",
    "    Compute the partial derivatives and set grad to the partial derivatives of the cost w.r.t. each param in theta.\n",
    "    Note: Remember not to regularize param theta0 => explicitly exlude theta0 from cost function J\n",
    "    \n",
    "    myNotes revised\n",
    "    ========= \n",
    "    y_hat = X * theta => (m, n+1) x (n+1, ) x  => shape (m, )     (same as y)\n",
    "    error = y_hat - y =>                          shape (m, )     (same as y)\n",
    "    gradient = vector                             shape (n+1, )   (same as theta)\n",
    "    X.T * (error/m) => (n+1, m) x (m, 1) =>       shape (n+1, ) \n",
    "\n",
    "    to multiply: use np.dot(X, theta)\n",
    "    \n",
    "    refer: https://docs.scipy.org/doc/numpy/reference/generated/numpy.dot.html\n",
    "    \"\"\"\n",
    "    # Initialize vars\n",
    "    m = y.size  # number of training examples\n",
    "\n",
    "    # Return the following variables correctly \n",
    "    J = 0\n",
    "    grad = np.zeros(theta.shape)\n",
    "\n",
    "    # ====================== YOUR CODE HERE ======================\n",
    "    #compute hypothesis\n",
    "    #for linear regression was: y_hat = np.dot( X, theta)\n",
    "    #for logistic regression \n",
    "    y_hat = myML.sigmoid( np.dot(X, theta))\n",
    "     \n",
    "    #compute cost \n",
    "    part1 = -y * np.log(y_hat)\n",
    "    part2 = (1 - y) * np.log(1 - y_hat)\n",
    "    #exclude theta0 from regularizing\n",
    "    J = ((part1-part2).sum() / m) + (lambda_ * (theta[1:]**2).sum() / (2*m))\n",
    "    \n",
    "    #compute gradient -> hint: same dimension as theta, see myNotes\n",
    "    #error = y_hat - y\n",
    "    #grad = np.dot(X.T, (error/m)) \n",
    "    \n",
    "    #exclude theta0 from regularizing => separately compute gradient0 \n",
    "    grad[0] = np.dot(X[:,0], (y_hat - y)/m) # returns a scalar (1 x m) x (m x 1), same for np.dot((m,)x(m,))\n",
    "    \n",
    "    #y_hat_rest = myML.sigmoid( np.dot(X[:,1:], theta[1:]))\n",
    "    grad[1:] = np.dot(X[:,1:].T, (y_hat - y)/m) + (lambda_ * theta[1:] / m) #same dims as theta - 1\n",
    "    \n",
    "    \n",
    "    # =============================================================\n",
    "    return J, grad\n",
    "    "
   ]
  },
  {
   "cell_type": "markdown",
   "metadata": {},
   "source": [
    "<div class=\"alert alert-block alert-info\">\n",
    "**Implementation Note:**<br>\n",
    "Before proceeding we add the intercept term to X. \n",
    "</div>"
   ]
  },
  {
   "cell_type": "code",
   "execution_count": 11,
   "metadata": {},
   "outputs": [
    {
     "name": "stdout",
     "output_type": "stream",
     "text": [
      "# of features (with intercept):  28\n",
      "# of records:  118\n"
     ]
    }
   ],
   "source": [
    "# Setup the data matrix appropriately, and add ones for the intercept term\n",
    "m, n = X.shape\n",
    "\n",
    "print('# of features (with intercept): ', n)\n",
    "print('# of records: ', m)\n"
   ]
  },
  {
   "cell_type": "markdown",
   "metadata": {},
   "source": [
    "Compute and display initial cost and gradient. Additional check with non-zero theta."
   ]
  },
  {
   "cell_type": "code",
   "execution_count": 12,
   "metadata": {},
   "outputs": [
    {
     "name": "stdout",
     "output_type": "stream",
     "text": [
      "Theta shape:  (28,)\n",
      "X shape:  (118, 28)\n",
      "Cost at initial theta (zeros): 0.693\n",
      "Expected cost (approx)       : 0.693\n",
      "\n",
      "Gradient at initial theta (zeros) - first five values only:\n",
      "\t[0.0085, 0.0188, 0.0001, 0.0503, 0.0115]\n",
      "Expected gradients (approx) - first five values only:\n",
      "\t[0.0085, 0.0188, 0.0001, 0.0503, 0.0115]\n",
      "\n",
      "------------------------------\n",
      "\n",
      "Cost at test theta    : 3.16\n",
      "Expected cost (approx): 3.16\n",
      "\n",
      "Gradient at initial theta (zeros) - first five values only:\n",
      "\t[0.3460, 0.1614, 0.1948, 0.2269, 0.0922]\n",
      "Expected gradients (approx) - first five values only:\n",
      "\t[0.3460, 0.1614, 0.1948, 0.2269, 0.0922]\n"
     ]
    }
   ],
   "source": [
    "# Initialize fitting parameters\n",
    "initial_theta = np.zeros(n)\n",
    "print(\"Theta shape: \", initial_theta.shape)\n",
    "print(\"X shape: \", X.shape)\n",
    "\n",
    "# Set regularization parameter lambda to 1\n",
    "lambda_ = 1;\n",
    "\n",
    "# Compute and display initial cost and gradient for regularized logistic regression\n",
    "cost, grad = costFunctionReg(initial_theta, X, y, lambda_)\n",
    "\n",
    "print('Cost at initial theta (zeros): {:.3f}'.format(cost))\n",
    "print('Expected cost (approx)       : 0.693\\n')\n",
    "\n",
    "print('Gradient at initial theta (zeros) - first five values only:')\n",
    "print('\\t[{:.4f}, {:.4f}, {:.4f}, {:.4f}, {:.4f}]'.format(*grad[:5]))\n",
    "print('Expected gradients (approx) - first five values only:')\n",
    "print('\\t[0.0085, 0.0188, 0.0001, 0.0503, 0.0115]\\n')\n",
    "\n",
    "\n",
    "# Compute and display cost and gradient\n",
    "# with all-ones theta and lambda = 10\n",
    "test_theta = np.ones(X.shape[1])\n",
    "cost, grad = costFunctionReg(test_theta, X, y, 10)\n",
    "\n",
    "print('------------------------------\\n')\n",
    "print('Cost at test theta    : {:.2f}'.format(cost))\n",
    "print('Expected cost (approx): 3.16\\n')\n",
    "\n",
    "print('Gradient at initial theta (zeros) - first five values only:')\n",
    "print('\\t[{:.4f}, {:.4f}, {:.4f}, {:.4f}, {:.4f}]'.format(*grad[:5]))\n",
    "print('Expected gradients (approx) - first five values only:')\n",
    "print('\\t[0.3460, 0.1614, 0.1948, 0.2269, 0.0922]')"
   ]
  },
  {
   "cell_type": "markdown",
   "metadata": {},
   "source": [
    "### 2.3.1 Learning parameters using `scipy.optimize`\n",
    "\n",
    "Similar to the previous parts, you will use `optimize.minimize` to learn the optimal parameters $\\theta$. If you have completed the cost and gradient for regularized logistic regression (`costFunctionReg`) correctly, you should be able to step through the next part of to learn the parameters $\\theta$ using `optimize.minimize`.\n",
    "\n",
    "For logistic regression, you want to optimize the cost function $J(\\theta)$ with parameters $\\theta$.\n",
    "Concretely, you are going to use `optimize.minimize` to find the best parameters $\\theta$ for the logistic regression cost function, given a fixed dataset (of X and y values). You will pass to `optimize.minimize` the following inputs:\n",
    "- `costFunction`: A cost function that, when given the training set and a particular $\\theta$, computes the logistic regression cost and gradient with respect to $\\theta$ for the dataset (X, y). It is important to note that we only pass the name of the function without the parenthesis. This indicates that we are only providing a reference to this function, and not evaluating the result from this function.\n",
    "- `initial_theta`: The initial values of the parameters we are trying to optimize.\n",
    "- `(X, y)`: These are additional arguments to the cost function.\n",
    "- `jac`: Indication if the cost function returns the Jacobian (gradient) along with cost value. (True)\n",
    "- `method`: Optimization method/algorithm to use\n",
    "- `options`: Additional options which might be specific to the specific optimization method. In the following, we only tell the algorithm the maximum number of iterations before it terminates.\n",
    "\n",
    "If you have completed the `costFunction` correctly, `optimize.minimize` will converge on the right optimization parameters and return the final values of the cost and $\\theta$ in a class object. Notice that by using `optimize.minimize`, you did not have to write any loops yourself, or set a learning rate like you did for gradient descent. This is all done by `optimize.minimize`: you only needed to provide a function calculating the cost and the gradient.\n",
    "\n",
    "In the following, we already have code written to call `optimize.minimize` with the correct arguments."
   ]
  },
  {
   "cell_type": "code",
   "execution_count": 13,
   "metadata": {},
   "outputs": [
    {
     "data": {
      "text/plain": [
       "(28,)"
      ]
     },
     "execution_count": 13,
     "metadata": {},
     "output_type": "execute_result"
    }
   ],
   "source": [
    "initial_theta.shape"
   ]
  },
  {
   "cell_type": "code",
   "execution_count": 14,
   "metadata": {},
   "outputs": [
    {
     "name": "stdout",
     "output_type": "stream",
     "text": [
      "Cost at theta found by optimize.minimize: 0.529\n",
      "theta:\n",
      "[ 1.27271026  0.62529965  1.18111686 -2.019874   -0.91743189 -1.43166929\n",
      "  0.12393228 -0.36553118 -0.35725404 -0.17516292 -1.45817009 -0.05098418\n",
      " -0.61558558 -0.27469165 -1.19271299 -0.24217841 -0.20603302 -0.04466178\n",
      " -0.27778948 -0.29539514 -0.45645982 -1.04319154  0.02779373 -0.29244865\n",
      "  0.01555759 -0.32742404 -0.14389149 -0.92467487]\n"
     ]
    }
   ],
   "source": [
    "# set options for optimize.minimize\n",
    "options= {'maxiter': 400}\n",
    "lambda_ = 1\n",
    "\n",
    "# see documention for scipy's optimize.minimize  for description about\n",
    "# the different parameters\n",
    "# The function returns an object `OptimizeResult`\n",
    "# We use truncated Newton algorithm for optimization which is \n",
    "# equivalent to MATLAB's fminunc\n",
    "# See https://stackoverflow.com/questions/18801002/fminunc-alternate-in-numpy\n",
    "res = optimize.minimize(costFunctionReg,\n",
    "                        initial_theta,\n",
    "                        (X, y, lambda_),\n",
    "                        jac=True,\n",
    "                        method='TNC',\n",
    "                        options=options)\n",
    "\n",
    "# the fun property of `OptimizeResult` object returns\n",
    "# the value of costFunction at optimized theta\n",
    "cost = res.fun\n",
    "\n",
    "# the optimized theta is in the x property\n",
    "theta = res.x\n",
    "\n",
    "# Print theta to screen\n",
    "print('Cost at theta found by optimize.minimize: {:.3f}'.format(cost))\n",
    "\n",
    "print('theta:')\n",
    "print(theta)\n"
   ]
  },
  {
   "cell_type": "markdown",
   "metadata": {},
   "source": [
    "Once `optimize.minimize` completes, we want to use the final value for $\\theta$ to visualize the decision boundary on the training data as shown in the figure below. \n",
    "\n",
    "![](Figures/decision_boundary1.png)\n",
    "\n",
    "## 2.4 Plotting the decision boundary\n",
    "\n",
    "To help you visualize the model learned by this classifier, we have provided the function `plotDecisionBoundary` which plots the (non-linear) decision boundary that separates the positive and negative examples. In `plotDecisionBoundary`, we plot the non-linear decision boundary by computing the classifier’s predictions on an evenly spaced grid and then and draw a contour plot where the predictions change from y = 0 to y = 1. "
   ]
  },
  {
   "cell_type": "code",
   "execution_count": 15,
   "metadata": {},
   "outputs": [],
   "source": [
    "def plotDecisionBoundary(plotData, theta, X, y):\n",
    "    \"\"\"\n",
    "    Plots the data points X and y into a new figure with the decision boundary defined by theta.\n",
    "    Plots the data points with * for the positive examples and o for  the negative examples.\n",
    "    Parameters\n",
    "    ----------\n",
    "    plotData : func\n",
    "        A function reference for plotting the X, y data.\n",
    "    theta : array_like\n",
    "        Parameters for logistic regression. A vector of shape (n+1, ).\n",
    "    X : array_like\n",
    "        The input dataset. X is assumed to be  a either:\n",
    "            1) Mx3 matrix, where the first column is an all ones column for the intercept.\n",
    "            2) MxN, N>3 matrix, where the first column is all ones.\n",
    "    y : array_like\n",
    "        Vector of data labels of shape (m, ).\n",
    "    \"\"\"\n",
    "    # make sure theta is a numpy array\n",
    "    theta = np.array(theta)\n",
    "\n",
    "    # Plot Data (remember first column in X is the intercept)\n",
    "    plotData(X[:, 1:3], y)\n",
    "\n",
    "    if X.shape[1] <= 3:\n",
    "        # Only need 2 points to define a line, so choose two endpoints\n",
    "        plot_x = np.array([np.min(X[:, 1]) - 2, np.max(X[:, 1]) + 2])\n",
    "\n",
    "        # Calculate the decision boundary line\n",
    "        plot_y = (-1. / theta[2]) * (theta[1] * plot_x + theta[0])\n",
    "\n",
    "        # Plot, and adjust axes for better viewing\n",
    "        plt.plot(plot_x, plot_y)\n",
    "\n",
    "        # Legend, specific for the exercise\n",
    "        plt.legend(['Admitted', 'Not admitted', 'Decision Boundary'])\n",
    "        plt.xlim([30, 100])\n",
    "        plt.ylim([30, 100])\n",
    "    else:\n",
    "        # Here is the grid range\n",
    "        u = np.linspace(-1, 1.5, 50)\n",
    "        v = np.linspace(-1, 1.5, 50)\n",
    "\n",
    "        z = np.zeros((u.size, v.size))\n",
    "        # Evaluate z = theta*x over the grid\n",
    "        for i, ui in enumerate(u):\n",
    "            for j, vj in enumerate(v):\n",
    "                z[i, j] = np.dot(mapFeature(ui, vj), theta)\n",
    "\n",
    "        z = z.T  # important to transpose z before calling contour\n",
    "        # print(z)\n",
    "\n",
    "        # Plot z = 0\n",
    "        plt.contour(u, v, z, levels=[0], linewidths=2, colors='g')\n",
    "        plt.contourf(u, v, z, levels=[np.min(z), 0, np.max(z)], cmap='Greens', alpha=0.4)"
   ]
  },
  {
   "cell_type": "code",
   "execution_count": 16,
   "metadata": {},
   "outputs": [
    {
     "name": "stdout",
     "output_type": "stream",
     "text": [
      "Cost at theta found by optimize.minimize: 0.529\n",
      "Train Accuracy: 83.1 %\n",
      "Expected accuracy (with lambda = 1): 83.1 % (approx)\n",
      "\n"
     ]
    },
    {
     "data": {
      "image/png": "[encoded data removed]",
      "text/plain": [
       "<Figure size 432x288 with 1 Axes>"
      ]
     },
     "metadata": {},
     "output_type": "display_data"
    }
   ],
   "source": [
    "\n",
    "plotDecisionBoundary(plotData, theta, X, y)\n",
    "plt.xlabel('Microchip Test 1')\n",
    "plt.ylabel('Microchip Test 2')\n",
    "plt.legend(['y = 1', 'y = 0'])\n",
    "plt.grid(False)\n",
    "plt.title('lambda = %0.2f' % lambda_)\n",
    "\n",
    "# Print results\n",
    "print('Cost at theta found by optimize.minimize: {:.3f}'.format(cost))\n",
    "# Compute accuracy on our training set\n",
    "y_hat = myML.predict_LogisticR(theta, X)\n",
    "print('Train Accuracy: %.1f %%' % (np.mean(y_hat == y) * 100))\n",
    "print('Expected accuracy (with lambda = 1): 83.1 % (approx)\\n')\n"
   ]
  },
  {
   "cell_type": "markdown",
   "metadata": {},
   "source": [
    "### 2.5 Optional (ungraded) exercises\n",
    "\n",
    "In this part of the exercise, you will get to try out different regularization parameters for the dataset to understand how regularization prevents overfitting.\n",
    "\n",
    "Notice the changes in the decision boundary as you vary $\\lambda$. See the following figures for the decision boundaries you should get for different values of $\\lambda$. \n",
    "<table>\n",
    "    <tr>\n",
    "        <td style=\"text-align:center\">\n",
    "            No regularization (overfitting)<img src=\"Figures/ex2_decision_boundary3.png\">\n",
    "        </td>        \n",
    "        <td style=\"text-align:center\">\n",
    "            Decision boundary with regularization\n",
    "            <img src=\"Figures/ex2_decision_boundary2.png\">\n",
    "        </td>\n",
    "        <td style=\"text-align:center\">\n",
    "            Decision boundary with too much regularization\n",
    "            <img src=\"Figures/ex2_decision_boundary4.png\">\n",
    "        </td>        \n",
    "    <tr>\n",
    "</table>\n",
    "With a small $\\lambda$, you should find that the classifier gets almost every training example correct, but draws a very complicated boundary, thus overfitting the data. This is not a good decision boundary: for example, it predicts that a point at $x = (−0.25, 1.5)$ is accepted $(y = 1)$, which seems to be an incorrect decision given the training set.  \n",
    "\n",
    "With a larger $\\lambda$, you should see a plot that shows an simpler decision boundary which still separates the positives and negatives fairly well.  \n",
    "\n",
    "However, if $\\lambda$ is set to too high a value, you will not get a good fit and the decision boundary will not follow the data so well, thus underfitting the data."
   ]
  },
  {
   "cell_type": "code",
   "execution_count": 17,
   "metadata": {},
   "outputs": [
    {
     "name": "stdout",
     "output_type": "stream",
     "text": [
      "Cost at theta found by optimize.minimize: 0.278\n",
      "Train Accuracy: 87.3 %\n"
     ]
    },
    {
     "data": {
      "image/png": "[encoded data removed]",
      "text/plain": [
       "<Figure size 432x288 with 1 Axes>"
      ]
     },
     "metadata": {},
     "output_type": "display_data"
    }
   ],
   "source": [
    "# Initialize fitting parameters\n",
    "initial_theta = np.zeros(X.shape[1])\n",
    "\n",
    "# Set regularization parameter lambda to 1 (you should vary this)\n",
    "lambda_ = 0\n",
    "\n",
    "# set options for optimize.minimize\n",
    "options= {'maxiter': 100}\n",
    "\n",
    "res = optimize.minimize(costFunctionReg,\n",
    "                        initial_theta,\n",
    "                        (X, y, lambda_),\n",
    "                        jac=True,\n",
    "                        method='TNC',\n",
    "                        options=options)\n",
    "\n",
    "# the fun property of OptimizeResult object returns\n",
    "# the value of costFunction at optimized theta\n",
    "cost = res.fun\n",
    "\n",
    "# the optimized theta is in the x property of the result\n",
    "theta = res.x\n",
    "\n",
    "#plot\n",
    "plotDecisionBoundary(plotData, theta, X, y)\n",
    "plt.xlabel('Microchip Test 1')\n",
    "plt.ylabel('Microchip Test 2')\n",
    "plt.legend(['y = 1', 'y = 0'])\n",
    "plt.grid(False)\n",
    "plt.title('lambda = %0.2f' % lambda_)\n",
    "\n",
    "# Print results\n",
    "print('Cost at theta found by optimize.minimize: {:.3f}'.format(cost))\n",
    "# Compute accuracy on our training set\n",
    "y_hat = myML.predict_LogisticR(theta, X)\n",
    "print('Train Accuracy: %.1f %%' % (np.mean(y_hat == y) * 100))\n"
   ]
  },
  {
   "cell_type": "code",
   "execution_count": 18,
   "metadata": {},
   "outputs": [
    {
     "name": "stdout",
     "output_type": "stream",
     "text": [
      "Cost at theta found by optimize.minimize: 0.686\n",
      "Train Accuracy: 61.0 %\n"
     ]
    },
    {
     "data": {
      "image/png": "[encoded data removed]",
      "text/plain": [
       "<Figure size 432x288 with 1 Axes>"
      ]
     },
     "metadata": {},
     "output_type": "display_data"
    }
   ],
   "source": [
    "# Initialize fitting parameters\n",
    "initial_theta = np.zeros(X.shape[1])\n",
    "\n",
    "# Set regularization parameter lambda to 1 (you should vary this)\n",
    "lambda_ = 100\n",
    "\n",
    "# set options for optimize.minimize\n",
    "options= {'maxiter': 100}\n",
    "\n",
    "res = optimize.minimize(costFunctionReg,\n",
    "                        initial_theta,\n",
    "                        (X, y, lambda_),\n",
    "                        jac=True,\n",
    "                        method='TNC',\n",
    "                        options=options)\n",
    "\n",
    "# the fun property of OptimizeResult object returns\n",
    "# the value of costFunction at optimized theta\n",
    "cost = res.fun\n",
    "\n",
    "# the optimized theta is in the x property of the result\n",
    "theta = res.x\n",
    "\n",
    "#plot\n",
    "plotDecisionBoundary(plotData, theta, X, y)\n",
    "plt.xlabel('Microchip Test 1')\n",
    "plt.ylabel('Microchip Test 2')\n",
    "plt.legend(['y = 1', 'y = 0'])\n",
    "plt.grid(False)\n",
    "plt.title('lambda = %0.2f' % lambda_)\n",
    "\n",
    "# Print results\n",
    "print('Cost at theta found by optimize.minimize: {:.3f}'.format(cost))\n",
    "# Compute accuracy on our training set\n",
    "y_hat = myML.predict_LogisticR(theta, X)\n",
    "print('Train Accuracy: %.1f %%' % (np.mean(y_hat == y) * 100))\n"
   ]
  },
  {
   "cell_type": "markdown",
   "metadata": {},
   "source": [
    "### my 2.6 Optional - Compare with non-regularized Logistic Regression\n",
    "reuse previously defined Cost function"
   ]
  },
  {
   "cell_type": "code",
   "execution_count": 19,
   "metadata": {},
   "outputs": [
    {
     "name": "stdout",
     "output_type": "stream",
     "text": [
      "Cost at theta found by optimize.minimize: 0.250\n",
      "Train Accuracy: 88.1 %\n"
     ]
    },
    {
     "data": {
      "image/png": "[encoded data removed]",
      "text/plain": [
       "<Figure size 432x288 with 1 Axes>"
      ]
     },
     "metadata": {},
     "output_type": "display_data"
    }
   ],
   "source": [
    "# set options for optimize.minimize\n",
    "options= {'maxiter': 400}\n",
    "\n",
    "# see documention for scipy's optimize.minimize  for description about\n",
    "# the different parameters\n",
    "# The function returns an object `OptimizeResult`\n",
    "# We use truncated Newton algorithm for optimization which is \n",
    "# equivalent to MATLAB's fminunc\n",
    "# See https://stackoverflow.com/questions/18801002/fminunc-alternate-in-numpy\n",
    "res = optimize.minimize(myML.costFunction_LogisticR,\n",
    "                        initial_theta,\n",
    "                        (X, y),\n",
    "                        jac=True,\n",
    "                        method='TNC',\n",
    "                        options=options)\n",
    "\n",
    "# the fun property of `OptimizeResult` object returns\n",
    "# the value of costFunction at optimized theta\n",
    "cost = res.fun\n",
    "\n",
    "# the optimized theta is in the x property\n",
    "theta = res.x\n",
    "\n",
    "#plot\n",
    "plotDecisionBoundary(plotData, theta, X, y)\n",
    "plt.xlabel('Microchip Test 1')\n",
    "plt.ylabel('Microchip Test 2')\n",
    "plt.legend(['y = 1', 'y = 0'])\n",
    "plt.grid(False)\n",
    "plt.title(\"Non-regularized Logistic Regression - for Comparison\")\n",
    "\n",
    "# Print results\n",
    "print('Cost at theta found by optimize.minimize: {:.3f}'.format(cost))\n",
    "# Compute accuracy on our training set\n",
    "y_hat = myML.predict_LogisticR(theta, X)\n",
    "print('Train Accuracy: %.1f %%' % (np.mean(y_hat == y) * 100))"
   ]
  },
  {
   "cell_type": "markdown",
   "metadata": {},
   "source": [
    "Non-regularized results look pretty good with training dataset, but the weird boundary indicates an overfitted model, which may not peform as well with new unseen examples.  \n"
   ]
  },
  {
   "cell_type": "markdown",
   "metadata": {},
   "source": [
    "## Xtra\n",
    "todo: Communicate results - the Model\n",
    "\n",
    "### X0. Communicate Results - the Model\n",
    "Hypothesis $h_\\theta(x)$ is given by the logistic model  \n",
    "Form: y_hat = theta0 + theta1 * x1 + theta2 * x2 + ... + theta_n * x_n\n",
    "\n",
    "How to interpret the model\n",
    "#### Probability of microchip passing the test =  theta0 + theta1 * x1 + theta2 * x2 + ... + theta_n * x_n"
   ]
  },
  {
   "cell_type": "markdown",
   "metadata": {},
   "source": [
    "### X1. Evaluating logistic regression\n",
    "\n",
    "After learning the parameters, you can use the model to predict whether a particular student will be admitted. For a student with an Exam 1 score of 45 and an Exam 2 score of 85, you should expect to see an admission\n",
    "probability of 0.776. "
   ]
  },
  {
   "cell_type": "code",
   "execution_count": 20,
   "metadata": {},
   "outputs": [
    {
     "name": "stdout",
     "output_type": "stream",
     "text": [
      "[0.051267 0.69956 ]\n",
      "Probability of microchip acceptance:  0.9452280126335111\n",
      "Prediction: True\n"
     ]
    }
   ],
   "source": [
    "#Predict a single example\n",
    "microchip_tests = X[0] #already feature mapped from 2 tests to 6 degree polynomials\n",
    "print(microchip_tests[1:3])\n",
    "y_hat=myML.sigmoid(np.dot(microchip_tests, theta))\n",
    "print(\"Probability of microchip acceptance: \", y_hat)\n",
    "print(\"Prediction:\", y_hat >= 0.5)"
   ]
  },
  {
   "cell_type": "code",
   "execution_count": 21,
   "metadata": {},
   "outputs": [
    {
     "ename": "NameError",
     "evalue": "name 'stop' is not defined",
     "output_type": "error",
     "traceback": [
      "\u001b[0;31m---------------------------------------------------------------------------\u001b[0m",
      "\u001b[0;31mNameError\u001b[0m                                 Traceback (most recent call last)",
      "\u001b[0;32m<ipython-input-21-4f76a9dad686>\u001b[0m in \u001b[0;36m<module>\u001b[0;34m()\u001b[0m\n\u001b[0;32m----> 1\u001b[0;31m \u001b[0mstop\u001b[0m\u001b[0;34m\u001b[0m\u001b[0;34m\u001b[0m\u001b[0m\n\u001b[0m",
      "\u001b[0;31mNameError\u001b[0m: name 'stop' is not defined"
     ]
    }
   ],
   "source": [
    "stop"
   ]
  },
  {
   "cell_type": "markdown",
   "metadata": {},
   "source": [
    "## 0. Appendix\n",
    "\n",
    "Review of previously defined functions also useful here.\n",
    "\n",
    "### 0.1 Logistic regression hypothesis and Sigmoid function\n",
    "\n",
    "\n",
    "The logistic regression hypothesis is defined as:\n",
    "\n",
    "$$ h_\\theta(x) = g(\\theta^T x)$$\n",
    "\n",
    "where function $g$ is the sigmoid function. The sigmoid function is defined as: \n",
    "\n",
    "$$g(z) = \\frac{1}{1+e^{-z}}$$."
   ]
  },
  {
   "cell_type": "code",
   "execution_count": 22,
   "metadata": {},
   "outputs": [],
   "source": [
    "#$mathcode:  \n",
    "# math.e**(x) equals to np.exp(x)\n",
    "#np.exp(1) returns e which is 2.718281828459045"
   ]
  },
  {
   "cell_type": "markdown",
   "metadata": {},
   "source": [
    "Test sigmoid function: \n",
    " - for large positive values, the sigmoid should be close to 1   \n",
    " - for large negative values, the sigmoid should be close to 0   \n",
    " - evaluating `sigmoid(0)` should give you exactly 0.5"
   ]
  },
  {
   "cell_type": "code",
   "execution_count": 23,
   "metadata": {},
   "outputs": [
    {
     "data": {
      "text/plain": [
       "array([1. , 0.5, 0. ])"
      ]
     },
     "execution_count": 23,
     "metadata": {},
     "output_type": "execute_result"
    }
   ],
   "source": [
    "#verify sigmoid works with scalar, vector and matrix\n",
    "#z = 1\n",
    "z = np.array([1000,0,-1000])\n",
    "#z = np.array([[1000,0,-1000],[10,0,-10]])\n",
    "\n",
    "myML.sigmoid(z)"
   ]
  },
  {
   "cell_type": "code",
   "execution_count": 25,
   "metadata": {},
   "outputs": [
    {
     "data": {
      "image/png": "[encoded data removed]",
      "text/plain": [
       "<Figure size 432x288 with 1 Axes>"
      ]
     },
     "metadata": {},
     "output_type": "display_data"
    }
   ],
   "source": [
    "from scipy.interpolate import make_interp_spline, BSpline #to smooth the line between points\n",
    "\n",
    "#visualize sigmoid function\n",
    "z = np.arange(-20, 20, 1)\n",
    "y = myML.sigmoid(z)\n",
    "\n",
    "#plot smooth sigmoid \n",
    "z_smooth = np.linspace(np.array(z).min(), np.array(z).max(), 50)\n",
    "spl = make_interp_spline(np.array(z), np.array(y), k=3)  # type: BSpline\n",
    "y_smooth = spl(z_smooth)\n",
    "\n",
    "#plot\n",
    "plt.title(\"Sigmoid function\")\n",
    "plt.plot(z, y, 'o')\n",
    "plt.plot(z_smooth, y_smooth, '-')\n",
    "plt.yticks([0,0.5,1])\n",
    "plt.show()"
   ]
  },
  {
   "cell_type": "code",
   "execution_count": null,
   "metadata": {},
   "outputs": [],
   "source": []
  }
 ],
 "metadata": {
  "kernelspec": {
   "display_name": "Python 3",
   "language": "python",
   "name": "python3"
  },
  "language_info": {
   "codemirror_mode": {
    "name": "ipython",
    "version": 3
   },
   "file_extension": ".py",
   "mimetype": "text/x-python",
   "name": "python",
   "nbconvert_exporter": "python",
   "pygments_lexer": "ipython3",
   "version": "3.6.7"
  }
 },
 "nbformat": 4,
 "nbformat_minor": 2
}
