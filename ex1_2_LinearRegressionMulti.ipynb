{
 "cells": [
  {
   "cell_type": "code",
   "execution_count": 1,
   "metadata": {},
   "outputs": [],
   "source": [
    "#meta: 10/29/2019 Ex1.  Linear regression.  \n",
    "# Multivariate linear regression - predict price of houses.  \n",
    "# src Coursera, Standford ML course - refactor in python\n",
    "# src for markup https://github.com/dibgerge/ml-coursera-python-assignments/blob/master/Exercise1/exercise1.ipynb\n",
    "\n",
    "\n",
    "#see ex1.pdf\n",
    "#Numbering per original assignments\n",
    "\n",
    "#based on: ex1_LinearRegressionUni.ipynb\n",
    "#     10/10/2019 GD\n",
    "#      EDA plot training data\n",
    "#      Define Cost function J\n",
    "#      Define Gradient Descent function\n",
    "#      Fit parameters theta to X,y data\n",
    "#      Result: linear model with one variable\n",
    "#      Plot linear regression\n",
    "#prev 10/12/2019 Use numpy \n",
    "#      numpy for data load (not pandas)\n",
    "#      Visualize J(θ) - surface and contour plots\n",
    "\n",
    "#here 1/14/2020 Multivariate linear regression\n",
    "#     Input: 2 variables, Output: house price\n"
   ]
  },
  {
   "cell_type": "code",
   "execution_count": 2,
   "metadata": {},
   "outputs": [],
   "source": [
    "import numpy as np\n",
    "import matplotlib.pyplot as plt\n",
    "%matplotlib inline\n",
    "from mpl_toolkits import mplot3d #to plot in 3D"
   ]
  },
  {
   "cell_type": "markdown",
   "metadata": {},
   "source": [
    "- Define global variables and functions"
   ]
  },
  {
   "cell_type": "code",
   "execution_count": 3,
   "metadata": {},
   "outputs": [],
   "source": [
    "def computeCost(X,y,theta, verbose=False):\n",
    "    \"\"\" function ComputeCost\n",
    "    \n",
    "    Objective\n",
    "    =========\n",
    "    Compute cost for linear regression \n",
    "    using theta as the parameter for linear regression \n",
    "    to fit the data points in X and y\n",
    "        \n",
    "    Paremeters\n",
    "    =========\n",
    "    input  X - matrix shape (n+1, m)\n",
    "    output y - shape (1, m)\n",
    "    params theta - vector shape (n+1, )\n",
    "    \n",
    "    Returns\n",
    "    =========\n",
    "    cost function J, type float\n",
    "\n",
    "    Notes\n",
    "    ========= \n",
    "    y_hat = theta.T * X => (1, n+1) x (n+1, m) => shape (1, m)     (same as y)\n",
    "\n",
    "    to multiply: use np.dot(theta.T, X)\n",
    "    refer: https://docs.scipy.org/doc/numpy/reference/generated/numpy.dot.html\n",
    "    \"\"\"\n",
    "    #initialize vars\n",
    "    J=0\n",
    "    m = y.size # number of training examples\n",
    "    \n",
    "    #compute hypothesis\n",
    "    ###print('theta.T ', theta.T)\n",
    "    y_hat = np.dot( theta.T, X )\n",
    "    if verbose:\n",
    "        print('y_hat ', y_hat)\n",
    "    \n",
    "    #compute error\n",
    "    error = y_hat - y\n",
    "    error_sqrd = error**2\n",
    "    #print('J', error_sqrd.sum() / (2*m))\n",
    "    #compute cost     \n",
    "    J = error_sqrd.sum() / (2*m)\n",
    "    \n",
    "    return J"
   ]
  },
  {
   "cell_type": "code",
   "execution_count": 4,
   "metadata": {},
   "outputs": [],
   "source": [
    "def featureNormalize(X):\n",
    "    \"\"\" function featureNormalize\n",
    "    \n",
    "    Objective\n",
    "    =========\n",
    "    Normalizes the features in X \n",
    "        \n",
    "    Paremeters\n",
    "    =========\n",
    "    input  X - matrix shape (m, n)\n",
    "    \n",
    "    Returns\n",
    "    =========\n",
    "    z-score matrix, mu and sigma\n",
    "    \n",
    "    Notes\n",
    "    ========= \n",
    "    preprocessing step to scale features of different magnitude\n",
    "    \n",
    "    \"\"\"\n",
    "    #compute\n",
    "    mu = X.mean(axis=0)\n",
    "    sigma = X.std(axis=0)\n",
    "    deviation = X - mu\n",
    "    z = deviation / sigma\n",
    "    \n",
    "    return z, mu, sigma"
   ]
  },
  {
   "cell_type": "code",
   "execution_count": 5,
   "metadata": {},
   "outputs": [],
   "source": [
    "def gradientDescent(X, y, theta, alpha, num_iters, verbose=False):\n",
    "    \"\"\" function ComputeCost\n",
    "    \n",
    "    Objective\n",
    "    =========\n",
    "    Fit the linear regression parameters θ to our dataset\n",
    "    Minimize the value of J(θ) by changing the values of the vector θ (not by changing X or y)\n",
    "        \n",
    "    Paremeters\n",
    "    =========\n",
    "    input  X - matrix shape (n+1, m)\n",
    "    output y - shape (1, m)\n",
    "    params theta - vector shape (n+1, )\n",
    "    alpha - learning rate \n",
    "    num_iters - number of iterations\n",
    "    \n",
    "    Returns\n",
    "    =========\n",
    "    updated theta\n",
    "    J history\n",
    "\n",
    "    Notes\n",
    "    ========= \n",
    "    y_hat = theta.T * X => (1, n+1) x (n+1, m) => shape (1, m)     (same as y)\n",
    "    error = y_hat - y   =>                        shape (1, m)     (same as y)\n",
    "    gradient = vector                             shape (n+1, )    (same as theta)\n",
    "    X * (error/m).T => (n+1, m) x (m, 1) =>       shape  n+1, ) \n",
    "\n",
    "    to multiply: use np.dot(theta.T, X)\n",
    "    refer: https://docs.scipy.org/doc/numpy/reference/generated/numpy.dot.html\n",
    "    \"\"\"\n",
    "\n",
    "    #Initialize vars\n",
    "    m = X.shape[1]; # number of training examples\n",
    "    J_history = np.zeros(num_iters)\n",
    "    \n",
    "    #Compute theta\n",
    "    for i in np.arange(0, num_iters):\n",
    "        #compute hypothesis\n",
    "        y_hat = np.dot(theta.T, X)\n",
    "        #compute error\n",
    "        error = y_hat - y\n",
    "        \n",
    "        #calculate gradient - see my notes        \n",
    "        gradient = np.dot(X, (error/m).T)\n",
    "        theta_temp = theta - alpha * gradient\n",
    "        theta = theta_temp\n",
    "        \n",
    "        #Save the cost J in every iteration    \n",
    "        J_history[i] = computeCost(X, y, theta)\n",
    "        \n",
    "        #preview\n",
    "        i_preview = 10\n",
    "        if verbose:\n",
    "            if (i < i_preview) or (i > (iterations - i_preview)):\n",
    "                print (\"i: {}, \\ngradient: {}, \\nupdated theta: {}, \\nupdated cost: {}\\n\".format(i, gradient, theta_temp, J_history[i]))\n",
    "\n",
    "    return theta, J_history\n"
   ]
  },
  {
   "cell_type": "markdown",
   "metadata": {},
   "source": [
    "# 3. Linear regression with multiple variables\n",
    "Implement linear regression with multiple variables to predict the prices of houses.\n",
    "\n",
    "## Predict Price of Houses\n",
    "Suppose you are selling your house and you want to know what a good market price would be. One way to do this is to first collect information on recent houses sold and make a model of housing prices.  \n",
    "\n",
    "Dataset:    \n",
    "- size of house (in sqft)  \n",
    "- number of bedrooms  \n",
    "- price of house\n"
   ]
  },
  {
   "cell_type": "markdown",
   "metadata": {},
   "source": [
    "## 3.0 Load Data\n",
    "package: numpy"
   ]
  },
  {
   "cell_type": "code",
   "execution_count": 6,
   "metadata": {},
   "outputs": [
    {
     "name": "stdout",
     "output_type": "stream",
     "text": [
      "(47, 3)\n",
      "Preview dataset\n",
      "\n",
      "1) size of house, 2) # of bedrooms, 3) price of house: \n",
      " [[2.104e+03 3.000e+00 3.999e+05]\n",
      " [1.600e+03 3.000e+00 3.299e+05]\n",
      " [2.400e+03 3.000e+00 3.690e+05]\n",
      " [1.416e+03 2.000e+00 2.320e+05]\n",
      " [3.000e+03 4.000e+00 5.399e+05]]\n"
     ]
    }
   ],
   "source": [
    "data = np.loadtxt('data/ex1/ex1data2.txt', delimiter=',',skiprows=0 ) #unpack=True\n",
    "print(data.shape)\n",
    "#preview data\n",
    "print(\"Preview dataset\\n\")\n",
    "print( \"1) size of house, 2) # of bedrooms, 3) price of house: \\n\", data[:5, :])\n"
   ]
  },
  {
   "cell_type": "markdown",
   "metadata": {},
   "source": [
    "- Split data into Input and Output"
   ]
  },
  {
   "cell_type": "code",
   "execution_count": 7,
   "metadata": {},
   "outputs": [],
   "source": [
    "X=data[:,0:2]\n",
    "y=data[:,2]\n"
   ]
  },
  {
   "cell_type": "markdown",
   "metadata": {},
   "source": [
    "- Number of records"
   ]
  },
  {
   "cell_type": "code",
   "execution_count": 8,
   "metadata": {},
   "outputs": [],
   "source": [
    "#m - number of data points, training examples\n",
    "m=y.size"
   ]
  },
  {
   "cell_type": "markdown",
   "metadata": {},
   "source": [
    "## 3.1 Feature Normalization"
   ]
  },
  {
   "cell_type": "markdown",
   "metadata": {},
   "source": [
    "#### Scale features and set them to zero mean\n",
    "X_norm is a normalized version of X where the mean value of each feature is 0 and  the standard deviation is 1. \n",
    "This is often a good preprocessing step to do when working with learning algorithms.\n"
   ]
  },
  {
   "cell_type": "code",
   "execution_count": 9,
   "metadata": {},
   "outputs": [
    {
     "name": "stdout",
     "output_type": "stream",
     "text": [
      "mu: [2000.68085106    3.17021277], \n",
      "sigma: [7.86202619e+02 7.52842809e-01]\n",
      "\n",
      "X normalized: \n",
      "[[ 0.13141542 -0.22609337]\n",
      " [-0.5096407  -0.22609337]\n",
      " [ 0.5079087  -0.22609337]\n",
      " [-0.74367706 -1.5543919 ]\n",
      " [ 1.27107075  1.10220517]]\n"
     ]
    }
   ],
   "source": [
    "X_norm, mean, std = featureNormalize(X)\n",
    "\n",
    "#preview results\n",
    "print(\"mu: {}, \\nsigma: {}\".format(mean, std))\n",
    "print(\"\\nX normalized: \\n{}\".format(X_norm[:5]))"
   ]
  },
  {
   "cell_type": "markdown",
   "metadata": {},
   "source": [
    "#### Build X and y\n",
    "  \n",
    "*X*  \n",
    "- intercept term  \n",
    "- size of house (in sqft)  \n",
    "- number of bedrooms  \n",
    "\n",
    "*y* - price of house\n"
   ]
  },
  {
   "cell_type": "code",
   "execution_count": 10,
   "metadata": {},
   "outputs": [
    {
     "name": "stdout",
     "output_type": "stream",
     "text": [
      "X_norm shape:  (47, 3)\n"
     ]
    },
    {
     "data": {
      "text/plain": [
       "array([[ 1.        ,  0.13141542, -0.22609337],\n",
       "       [ 1.        , -0.5096407 , -0.22609337],\n",
       "       [ 1.        ,  0.5079087 , -0.22609337],\n",
       "       [ 1.        , -0.74367706, -1.5543919 ],\n",
       "       [ 1.        ,  1.27107075,  1.10220517]])"
      ]
     },
     "execution_count": 10,
     "metadata": {},
     "output_type": "execute_result"
    }
   ],
   "source": [
    "# Add intercept term to X\n",
    "X_norm = np.concatenate((np.ones((m,1)), X_norm), axis=1)\n",
    "print('X_norm shape: ', X_norm.shape)\n",
    "#preview\n",
    "X_norm[:5,]"
   ]
  },
  {
   "cell_type": "code",
   "execution_count": 11,
   "metadata": {},
   "outputs": [
    {
     "data": {
      "text/plain": [
       "array([399.9, 329.9, 369. , 232. , 539.9])"
      ]
     },
     "execution_count": 11,
     "metadata": {},
     "output_type": "execute_result"
    }
   ],
   "source": [
    "#Scale y values for easier Cost and Gradient Descent computation\n",
    "y_scaled = y / 1000\n",
    "y_scaled[:5] #.__class__ np.ndarray\n"
   ]
  },
  {
   "cell_type": "markdown",
   "metadata": {},
   "source": [
    "- Number of features"
   ]
  },
  {
   "cell_type": "code",
   "execution_count": 12,
   "metadata": {},
   "outputs": [
    {
     "name": "stdout",
     "output_type": "stream",
     "text": [
      "# of records: 47\n",
      "# of features: 3\n"
     ]
    }
   ],
   "source": [
    "#n - mumber of features\n",
    "n = X_norm.shape[1]\n",
    "\n",
    "print (\"# of records: {}\".format(m))\n",
    "print(\"# of features: {}\".format(n))\n"
   ]
  },
  {
   "cell_type": "markdown",
   "metadata": {},
   "source": [
    "## 3.2  Gradient Descent\n",
    "Objective: fit the linear regression parameters $\\theta$  to our dataset using gradient descent.\n",
    "\n",
    "### 3.2.1 Update Equations\n",
    "\n",
    "The objective of linear regression is to minimize the cost function\n",
    "\n",
    "$$ J(\\theta) = \\frac{1}{2m} \\sum_{i=1}^m \\left( h_{\\theta}(x^{(i)}) - y^{(i)}\\right)^2$$\n",
    "\n",
    "where the hypothesis $h_\\theta(x)$ is given by the linear model\n",
    "$$ h_\\theta(x) = \\theta^Tx = \\theta_0 + \\theta_1 x_1$$\n",
    "\n",
    "Recall that the parameters of your model are the $\\theta_j$ values. These are\n",
    "the values you will adjust to minimize cost $J(\\theta)$. One way to do this is to\n",
    "use the batch gradient descent algorithm. In batch gradient descent, each\n",
    "iteration performs the update\n",
    "\n",
    "$$ \\theta_j = \\theta_j - \\alpha \\frac{1}{m} \\sum_{i=1}^m \\left( h_\\theta(x^{(i)}) - y^{(i)}\\right)x_j^{(i)} \\qquad \\text{simultaneously update } \\theta_j \\text{ for all } j$$\n",
    "\n",
    "With each step of gradient descent, your parameters $\\theta_j$ come closer to the optimal values that will achieve the lowest cost J($\\theta$).\n",
    "\n",
    "<div class=\"alert alert-block alert-info\">\n",
    "**Implementation Note:**<br>\n",
    "We store each example as a row in the the $X$ matrix in Python `numpy`.<br>\n",
    "To take into account the intercept term $\\theta_0$, we add an additional first column to $X$ and set it to all ones. This allows us to treat $\\theta_0$ as simply another 'feature'.\n",
    "</div>"
   ]
  },
  {
   "cell_type": "markdown",
   "metadata": {},
   "source": [
    "### 3.2.2 Implementation\n",
    "We have already set up the data for linear regression.  \n",
    "In the following lines, we add another dimension to our data to accommodate the $\\theta_0$ intercept term.  \n",
    "We also initialize the initial parameters to 0 and the learning rate alpha to 0.01.\n",
    "\n",
    "<div class=\"alert alert-success\">\n",
    "myNote:<br>\n",
    "*X* (matrix)  - input features<br>\n",
    "*y* (vector)  - output variable<br>\n",
    "$\\theta$ (vector) - parameters<br>\n",
    "<br>\n",
    "dim:<br>\n",
    "*n* - rows, here # of features<br>\n",
    "*m* - columns, here # of training examples\n",
    "</div>"
   ]
  },
  {
   "cell_type": "markdown",
   "metadata": {},
   "source": [
    "- Initialize fitting parameters"
   ]
  },
  {
   "cell_type": "code",
   "execution_count": 13,
   "metadata": {},
   "outputs": [
    {
     "name": "stdout",
     "output_type": "stream",
     "text": [
      "θ shape:  (3, 1)\n",
      "θ: \n",
      " [[0.]\n",
      " [0.]\n",
      " [0.]]\n"
     ]
    }
   ],
   "source": [
    "#initialize fitting parameters\n",
    "#np.array([[0],[0]])\n",
    "theta = np.zeros((n, 1))\n",
    "print('θ shape: ', theta.shape)\n",
    "print('θ: \\n',theta)\n",
    "\n",
    "#initialize gradient descent settings\n",
    "iterations = 50000\n",
    "alpha = 0.01\n"
   ]
  },
  {
   "cell_type": "markdown",
   "metadata": {},
   "source": [
    "### 3.2.3 Test the cost function\n",
    "Run computeCost using $\\theta$ initialized to zeros.  "
   ]
  },
  {
   "cell_type": "code",
   "execution_count": 14,
   "metadata": {},
   "outputs": [
    {
     "name": "stdout",
     "output_type": "stream",
     "text": [
      "(3, 1)\n",
      "(3, 47)\n",
      "(47,)\n"
     ]
    }
   ],
   "source": [
    "#Shapes of params Theta, Input and Output \n",
    "print(theta.shape)\n",
    "print(X_norm.T.shape)\n",
    "print(y_scaled.shape)\n"
   ]
  },
  {
   "cell_type": "code",
   "execution_count": 15,
   "metadata": {},
   "outputs": [
    {
     "name": "stdout",
     "output_type": "stream",
     "text": [
      "65591.54810645744\n"
     ]
    }
   ],
   "source": [
    "# Use and validate function\n",
    "print(computeCost(X_norm.T, y_scaled, theta))\n"
   ]
  },
  {
   "cell_type": "markdown",
   "metadata": {},
   "source": [
    "After y scaling  \n",
    "J = 65591.54810645744\n",
    "\n",
    "Before y scaling  \n",
    "J = 65591548106.45744  "
   ]
  },
  {
   "cell_type": "markdown",
   "metadata": {},
   "source": [
    "\n",
    "### 3.2.4 Gradient descent\n",
    "As you program, make sure you understand what you are trying to optimize and what is being updated. Keep in mind that the cost $J(\\theta)$ is parameterized by the vector $\\theta$, not $X$ and $y$. That is, we minimize the value of $J(\\theta)$ by changing the values of the vector $\\theta$, not by changing $X$ or $y$. \n",
    "\n",
    "A good way to verify that gradient descent is working correctly is to look at the value of $J(\\theta)$ and check that it is decreasing with each step. Assuming you have implemented gradient descent and `computeCost` correctly, your value of $J(\\theta)$ should never increase, and should converge to a steady value by the end of the algorithm.\n",
    "\n",
    "\n",
    "<div class=\"alert alert-success\">\n",
    "myNote:<br>\n",
    "X matrix        (3,47)<br> \n",
    "y               (1,47)<br>\n",
    "theta vector    (3,1)<br>\n",
    "<br>\n",
    "Matrix multiplication:<br>\n",
    "y_hat = theta.T $*$ X => (1,3) x (3,47) = (1,47)   (same as y)<br>\n",
    "error = y_hat - y => (1,47)                      (same as y)<br>\n",
    "gradient = X $*$ (error/m).T  => (3,47) x (47,1) => vecor (3,1) (same as theta)\n",
    "</div>"
   ]
  },
  {
   "cell_type": "markdown",
   "metadata": {},
   "source": [
    "- Run gradient descent (verbose mode)"
   ]
  },
  {
   "cell_type": "code",
   "execution_count": 16,
   "metadata": {},
   "outputs": [
    {
     "name": "stdout",
     "output_type": "stream",
     "text": [
      "initial theta: [[0.]\n",
      " [0.]\n",
      " [0.]]\n",
      "\n",
      "updated theta and J history\n",
      "i: 0, \n",
      "gradient: [[-340.41265957]\n",
      " [-105.76413349]\n",
      " [ -54.70882176]], \n",
      "updated theta: [[3.4041266 ]\n",
      " [1.05764133]\n",
      " [0.54708822]], \n",
      "updated cost: 64297.77625162011\n",
      "\n",
      "i: 1, \n",
      "gradient: [[-337.00853298]\n",
      " [-104.4001407 ]\n",
      " [ -53.56948908]], \n",
      "updated theta: [[6.77421193]\n",
      " [2.10164274]\n",
      " [1.08278311]], \n",
      "updated cost: 63031.01830552134\n",
      "\n",
      "i: 2, \n",
      "gradient: [[-333.63844765]\n",
      " [-103.05616772]\n",
      " [ -52.44918764]], \n",
      "updated theta: [[10.1105964 ]\n",
      " [ 3.13220442]\n",
      " [ 1.60727498]], \n",
      "updated cost: 61790.69423753246\n",
      "\n",
      "i: 3, \n",
      "gradient: [[-330.30206317]\n",
      " [-101.73190779]\n",
      " [ -51.34761502]], \n",
      "updated theta: [[13.41361703]\n",
      " [ 4.1495235 ]\n",
      " [ 2.12075113]], \n",
      "updated cost: 60576.23690199104\n",
      "\n",
      "i: 4, \n",
      "gradient: [[-326.99904254]\n",
      " [-100.42705891]\n",
      " [ -50.26447355]], \n",
      "updated theta: [[16.68360746]\n",
      " [ 5.15379409]\n",
      " [ 2.62339587]], \n",
      "updated cost: 59387.09173998858\n",
      "\n",
      "i: 5, \n",
      "gradient: [[-323.72905212]\n",
      " [ -99.14132376]\n",
      " [ -49.19947022]], \n",
      "updated theta: [[19.92089798]\n",
      " [ 6.14520732]\n",
      " [ 3.11539057]], \n",
      "updated cost: 58222.71648838938\n",
      "\n",
      "i: 6, \n",
      "gradient: [[-320.49176159]\n",
      " [ -97.87440962]\n",
      " [ -48.15231662]], \n",
      "updated theta: [[23.1258156 ]\n",
      " [ 7.12395142]\n",
      " [ 3.59691374]], \n",
      "updated cost: 57082.58089589541\n",
      "\n",
      "i: 7, \n",
      "gradient: [[-317.28684398]\n",
      " [ -96.62602834]\n",
      " [ -47.12272886]], \n",
      "updated theta: [[26.29868404]\n",
      " [ 8.0902117 ]\n",
      " [ 4.06814103]], \n",
      "updated cost: 55966.16644597886\n",
      "\n",
      "i: 8, \n",
      "gradient: [[-314.11397554]\n",
      " [ -95.39589623]\n",
      " [ -46.1104275 ]], \n",
      "updated theta: [[29.43982379]\n",
      " [ 9.04417067]\n",
      " [ 4.5292453 ]], \n",
      "updated cost: 54872.96608650777\n",
      "\n",
      "i: 9, \n",
      "gradient: [[-310.97283578]\n",
      " [ -94.183734  ]\n",
      " [ -45.11513749]], \n",
      "updated theta: [[32.54955215]\n",
      " [ 9.98600801]\n",
      " [ 4.98039668]], \n",
      "updated cost: 53802.483965895066\n",
      "\n",
      "i: 49991, \n",
      "gradient: [[-2.79737344e-12]\n",
      " [-7.05787879e-13]\n",
      " [ 4.18995540e-14]], \n",
      "updated theta: [[340.41265957]\n",
      " [109.44779647]\n",
      " [ -6.57835485]], \n",
      "updated cost: 2043.2800506028282\n",
      "\n",
      "i: 49992, \n",
      "gradient: [[-2.79737344e-12]\n",
      " [-7.05787879e-13]\n",
      " [ 4.18995540e-14]], \n",
      "updated theta: [[340.41265957]\n",
      " [109.44779647]\n",
      " [ -6.57835485]], \n",
      "updated cost: 2043.2800506028282\n",
      "\n",
      "i: 49993, \n",
      "gradient: [[-2.79737344e-12]\n",
      " [-7.05787879e-13]\n",
      " [ 4.18995540e-14]], \n",
      "updated theta: [[340.41265957]\n",
      " [109.44779647]\n",
      " [ -6.57835485]], \n",
      "updated cost: 2043.2800506028282\n",
      "\n",
      "i: 49994, \n",
      "gradient: [[-2.79737344e-12]\n",
      " [-7.05787879e-13]\n",
      " [ 4.18995540e-14]], \n",
      "updated theta: [[340.41265957]\n",
      " [109.44779647]\n",
      " [ -6.57835485]], \n",
      "updated cost: 2043.2800506028282\n",
      "\n",
      "i: 49995, \n",
      "gradient: [[-2.79737344e-12]\n",
      " [-7.05787879e-13]\n",
      " [ 4.18995540e-14]], \n",
      "updated theta: [[340.41265957]\n",
      " [109.44779647]\n",
      " [ -6.57835485]], \n",
      "updated cost: 2043.2800506028282\n",
      "\n",
      "i: 49996, \n",
      "gradient: [[-2.79737344e-12]\n",
      " [-7.05787879e-13]\n",
      " [ 4.18995540e-14]], \n",
      "updated theta: [[340.41265957]\n",
      " [109.44779647]\n",
      " [ -6.57835485]], \n",
      "updated cost: 2043.2800506028282\n",
      "\n",
      "i: 49997, \n",
      "gradient: [[-2.79737344e-12]\n",
      " [-7.05787879e-13]\n",
      " [ 4.18995540e-14]], \n",
      "updated theta: [[340.41265957]\n",
      " [109.44779647]\n",
      " [ -6.57835485]], \n",
      "updated cost: 2043.2800506028282\n",
      "\n",
      "i: 49998, \n",
      "gradient: [[-2.79737344e-12]\n",
      " [-7.05787879e-13]\n",
      " [ 4.18995540e-14]], \n",
      "updated theta: [[340.41265957]\n",
      " [109.44779647]\n",
      " [ -6.57835485]], \n",
      "updated cost: 2043.2800506028282\n",
      "\n",
      "i: 49999, \n",
      "gradient: [[-2.79737344e-12]\n",
      " [-7.05787879e-13]\n",
      " [ 4.18995540e-14]], \n",
      "updated theta: [[340.41265957]\n",
      " [109.44779647]\n",
      " [ -6.57835485]], \n",
      "updated cost: 2043.2800506028282\n",
      "\n"
     ]
    }
   ],
   "source": [
    "#initialize theta\n",
    "theta = None\n",
    "theta = np.zeros((n, 1))\n",
    "print(\"initial theta: {}\\n\".format(theta))\n",
    "print(\"updated theta and J history\")\n",
    "theta, J_history = gradientDescent(X_norm.T, y_scaled, theta, alpha, iterations, verbose=True)"
   ]
  },
  {
   "cell_type": "code",
   "execution_count": 17,
   "metadata": {},
   "outputs": [
    {
     "name": "stdout",
     "output_type": "stream",
     "text": [
      "Theta found by gradient descent:\n",
      " [[340.41265957]\n",
      " [109.44779647]\n",
      " [ -6.57835485]]\n"
     ]
    }
   ],
   "source": [
    "print('Theta found by gradient descent:\\n', theta)"
   ]
  },
  {
   "cell_type": "markdown",
   "metadata": {},
   "source": [
    "\n",
    "### Predict\n",
    "- Estimate the price of a 1650 sq-ft, 3 br house.  \n",
    "Vectorization: Use matrix multiplication, rather than explicit summation or looping, to calculate the predictions."
   ]
  },
  {
   "cell_type": "code",
   "execution_count": 18,
   "metadata": {},
   "outputs": [
    {
     "data": {
      "text/plain": [
       "array([ 1.        , -0.44604386, -0.22609337])"
      ]
     },
     "execution_count": 18,
     "metadata": {},
     "output_type": "execute_result"
    }
   ],
   "source": [
    "#to predict, \n",
    "# take input, normalize it, add an intercept\n",
    "y_test  = np.array([1650, 3])\n",
    "y_test_norm = (y_test - mean) / std\n",
    "y_test_norm = np.concatenate((np.ones(1), y_test_norm), axis=0)\n",
    "y_test_norm"
   ]
  },
  {
   "cell_type": "code",
   "execution_count": 19,
   "metadata": {},
   "outputs": [
    {
     "name": "stdout",
     "output_type": "stream",
     "text": [
      "Prediction price of a 1650 sq-ft and 3 br house: $ 293081.46\n"
     ]
    }
   ],
   "source": [
    "y_hat = np.dot(theta.T, y_test_norm.T)\n",
    "y_hat\n",
    "print(\"Prediction price of a 1650 sq-ft and 3 br house: $ {}\".format(round(y_hat[0] * 1000, 2)))"
   ]
  },
  {
   "cell_type": "markdown",
   "metadata": {},
   "source": [
    "- Predict single and multi records"
   ]
  },
  {
   "cell_type": "code",
   "execution_count": 20,
   "metadata": {},
   "outputs": [
    {
     "name": "stdout",
     "output_type": "stream",
     "text": [
      "[[ 1.          0.13141542 -0.22609337]\n",
      " [ 1.         -0.5096407  -0.22609337]\n",
      " [ 1.          0.5079087  -0.22609337]\n",
      " [ 1.         -0.74367706 -1.5543919 ]\n",
      " [ 1.          1.27107075  1.10220517]]\n"
     ]
    },
    {
     "data": {
      "text/plain": [
       "array([399900., 329900., 369000., 232000., 539900.])"
      ]
     },
     "execution_count": 20,
     "metadata": {},
     "output_type": "execute_result"
    }
   ],
   "source": [
    "print(X_norm[:5,])\n",
    "y[:5]"
   ]
  },
  {
   "cell_type": "code",
   "execution_count": 21,
   "metadata": {},
   "outputs": [
    {
     "name": "stdout",
     "output_type": "stream",
     "text": [
      "[[356.28311013]]\n",
      "[[356.28311034 286.12093063 397.48946985 269.24418573 472.27785515]]\n"
     ]
    }
   ],
   "source": [
    "predict1 = np.dot(theta.T, [[1], [0.13141542], [-0.22609337]])\n",
    "print(predict1)\n",
    "\n",
    "predict2 = np.dot(theta.T, X_norm[:5,].T)\n",
    "print(predict2)"
   ]
  },
  {
   "cell_type": "markdown",
   "metadata": {},
   "source": [
    "Predict2 dims: (1 x 3) x (3 x 5) = 1 x 5"
   ]
  },
  {
   "cell_type": "markdown",
   "metadata": {},
   "source": [
    "### Xtra\n",
    "smart examples"
   ]
  },
  {
   "cell_type": "code",
   "execution_count": 22,
   "metadata": {},
   "outputs": [
    {
     "name": "stdout",
     "output_type": "stream",
     "text": [
      "4478.0\n",
      "3.15099325527155\n",
      "1.0\n"
     ]
    }
   ],
   "source": [
    "#$xtra verify results of featureNormalize\n",
    "print(X[:,0].max())\n",
    "print((X[:,0].max() - mean[0])/std[0])\n",
    "print(X_norm[:,0].max())\n"
   ]
  },
  {
   "cell_type": "code",
   "execution_count": 23,
   "metadata": {},
   "outputs": [
    {
     "name": "stdout",
     "output_type": "stream",
     "text": [
      "[  0.  10.  20.  30.  40.  50.  60.  70.  80.  90. 100.]\n",
      "[1.e-02 1.e-01 1.e+00 1.e+01 1.e+02 1.e+03]\n"
     ]
    }
   ],
   "source": [
    "#$xtra Generate linearly and logarithmically spaced vectors\n",
    "#Linspace gives evenly spaced samples\n",
    "print(np.linspace(0,100,11))\n",
    "#Logspace returns even spaced numbers on a log scale\n",
    "print(np.logspace(-2, 3, 6))"
   ]
  },
  {
   "cell_type": "code",
   "execution_count": 24,
   "metadata": {},
   "outputs": [
    {
     "data": {
      "image/png": "[encoded data removed]",
      "text/plain": [
       "<Figure size 432x288 with 1 Axes>"
      ]
     },
     "metadata": {},
     "output_type": "display_data"
    }
   ],
   "source": [
    "#$xtra Surface and contour plot example\n",
    "#src https://stackoverflow.com/questions/35445424/surface-and-3d-contour-in-matplotlib\n",
    "#import numpy as np\n",
    "#from mpl_toolkits.mplot3d import axes3d\n",
    "#import matplotlib.pyplot as plt\n",
    "\n",
    "fig = plt.figure()\n",
    "ax = fig.add_subplot(111, projection=\"3d\")\n",
    "X, Y = np.mgrid[-1:1:30j, -1:1:30j]\n",
    "Z = np.sin(np.pi*X)*np.sin(np.pi*Y)\n",
    "\n",
    "ax.plot_surface(X, Y, Z, cmap=\"autumn_r\", lw=0, rstride=1, cstride=1)\n",
    "#ax.contour(X, Y, Z+1, 10, lw=3, colors=\"k\", linestyles=\"solid\")\n",
    "ax.contour(X, Y, Z, 10, offset=-1, colors=\"k\", linestyles=\"solid\", alpha=0.5) #lw=3, \n",
    "plt.show()"
   ]
  },
  {
   "cell_type": "code",
   "execution_count": 25,
   "metadata": {},
   "outputs": [
    {
     "data": {
      "text/plain": [
       "'#$ac Xtra -> doc & delete\\nzz = np.array([np.ones(n)])\\nzz = np.array([[3],[4],[5]])\\nprint (zz)\\nprint(zz.shape)\\nprint(X_norm.shape)\\nprint(y.shape)\\n\\nprint(np.dot(zz.T, X_norm.T)) #1 x 47\\n#print(np.dot(X_norm, zz.T)) #47 x 1\\n#y\\n\\n### $acdelete\\n#X2 = np.concatenate(np.ones(m), X, axis=0)\\nX2 = np.concatenate((np.ones((m,1)), X), axis=1)\\n\\nX2[:4]'"
      ]
     },
     "execution_count": 25,
     "metadata": {},
     "output_type": "execute_result"
    }
   ],
   "source": [
    "### $acdelete \n",
    "'''#$ac Xtra -> doc & delete\n",
    "zz = np.array([np.ones(n)])\n",
    "zz = np.array([[3],[4],[5]])\n",
    "print (zz)\n",
    "print(zz.shape)\n",
    "print(X_norm.shape)\n",
    "print(y.shape)\n",
    "\n",
    "print(np.dot(zz.T, X_norm.T)) #1 x 47\n",
    "#print(np.dot(X_norm, zz.T)) #47 x 1\n",
    "#y\n",
    "\n",
    "### $acdelete\n",
    "#X2 = np.concatenate(np.ones(m), X, axis=0)\n",
    "X2 = np.concatenate((np.ones((m,1)), X), axis=1)\n",
    "\n",
    "X2[:4]'''"
   ]
  },
  {
   "cell_type": "code",
   "execution_count": 26,
   "metadata": {},
   "outputs": [],
   "source": [
    "def gradientDescent_draft(X,y,theta, alpha, num_iters):\n",
    "    \"\"\" function ComputeCost\n",
    "    \n",
    "    Objective\n",
    "    =========\n",
    "    Fit the linear regression parameters θ to our dataset\n",
    "    Minimize the value of J(θ) by changing the values of the vector θ (not by changing X or y)\n",
    "        \n",
    "    Paremeters\n",
    "    =========\n",
    "    input  X - matrix shape (n+1, m)\n",
    "    output y - shape (1, m)\n",
    "    params theta - vector shape (n+1, )\n",
    "    alpha - learning rate \n",
    "    num_iters - number of iterations\n",
    "    \n",
    "    Returns\n",
    "    =========\n",
    "    updated theta\n",
    "    J history\n",
    "\n",
    "    Notes\n",
    "    ========= \n",
    "    y_hat = theta.T * X => (1, n+1) x (n+1, m) => shape (1, m)     (same as y)\n",
    "    error = y_hat - y   =>                        shape (1, m)     (same as y)\n",
    "    gradient = vector                             shape (n+1, )    (same as theta)\n",
    "    X * (error/m).T => (n+1, m) x (m, 1) =>       shape  n+1, ) \n",
    "\n",
    "    to multiply: use np.dot(theta.T, X)\n",
    "    refer: https://docs.scipy.org/doc/numpy/reference/generated/numpy.dot.html\n",
    "    \"\"\"\n",
    "\n",
    "    #Initialize vars\n",
    "    m = X.shape[1]; # number of training examples\n",
    "    J_history = np.zeros(num_iters)\n",
    "    \n",
    "    #Compute theta\n",
    "    for i in np.arange(0, num_iters):\n",
    "        #compute hypothesis\n",
    "        y_hat = np.dot(theta.T, X)\n",
    "        #compute error\n",
    "        error = y_hat - y\n",
    "        \n",
    "        #calculate gradient - see my notes        \n",
    "        gradient = np.dot(X, (error/m).T)\n",
    "        theta_temp = theta - alpha * gradient\n",
    "        theta = theta_temp\n",
    "        \n",
    "        #Save the cost J in every iteration    \n",
    "        J_history[i] = computeCost(X, y, theta)\n",
    "        \n",
    "        #preview\n",
    "        i_preview = 10\n",
    "        if (i < i_preview) or (i > (iterations - i_preview)):\n",
    "            print (\"i: {}, \\ngradient: {}, \\nupdated theta: {}, \\nupdated cost: {}\\n\".format(i, gradient, theta_temp, J_history[i]))\n",
    "        \n",
    "    return theta, J_history\n"
   ]
  }
 ],
 "metadata": {
  "kernelspec": {
   "display_name": "Python 3",
   "language": "python",
   "name": "python3"
  },
  "language_info": {
   "codemirror_mode": {
    "name": "ipython",
    "version": 3
   },
   "file_extension": ".py",
   "mimetype": "text/x-python",
   "name": "python",
   "nbconvert_exporter": "python",
   "pygments_lexer": "ipython3",
   "version": "3.6.7"
  }
 },
 "nbformat": 4,
 "nbformat_minor": 2
}
