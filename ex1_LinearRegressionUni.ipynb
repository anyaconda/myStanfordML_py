{
 "cells": [
  {
   "cell_type": "code",
   "execution_count": 1,
   "metadata": {},
   "outputs": [],
   "source": [
    "#meta: 9/22/2019 Ex1.  Linear regression.  \n",
    "# Univariate linear regression - predict profits for a food truck.  \n",
    "# src Coursera, Standford ML course - refactor in python\n",
    "# src for markup https://github.com/dibgerge/ml-coursera-python-assignments/blob/master/Exercise1/exercise1.ipynb\n",
    "\n",
    "\n",
    "#see ex1.pdf\n",
    "#Numbering per original assignments\n",
    "\n",
    "#here: 10/10/2019\n",
    "#      EDA plot training data\n",
    "#      Define Cost function J\n",
    "#      Define Gradient Descent function\n",
    "#      Fit parameters theta to X,y data\n",
    "#      Result: linear model with one variable\n",
    "#      Plot linear regression"
   ]
  },
  {
   "cell_type": "code",
   "execution_count": 2,
   "metadata": {},
   "outputs": [],
   "source": [
    "import numpy as np\n",
    "import pandas as pd\n",
    "import matplotlib.pyplot as plt\n",
    "%matplotlib inline"
   ]
  },
  {
   "cell_type": "markdown",
   "metadata": {},
   "source": [
    "# 2. Linear regression with one variable\n",
    "Implement linear regression with one variable to predict profits for a food truck.\n",
    "\n",
    "## Predict Profits for a Food Truck\n",
    "Suppose you are the CEO of a restaurant franchise and are considering different cities for opening a new outlet. The chain already has trucks in various cities and you have data for profits and populations from the cities.\n",
    "\n",
    "Dataset:  \n",
    "*x* - population size in 10,000s  \n",
    "*y* - profit in $10,000s\n",
    "\n",
    "Use this data to help you select which city to expand to next."
   ]
  },
  {
   "cell_type": "markdown",
   "metadata": {},
   "source": [
    "## 2.0 Load Data\n",
    "package: pandas"
   ]
  },
  {
   "cell_type": "code",
   "execution_count": 3,
   "metadata": {},
   "outputs": [
    {
     "name": "stdout",
     "output_type": "stream",
     "text": [
      "<class 'pandas.core.frame.DataFrame'>\n",
      "RangeIndex: 97 entries, 0 to 96\n",
      "Data columns (total 2 columns):\n",
      "0    97 non-null float64\n",
      "1    97 non-null float64\n",
      "dtypes: float64(2)\n",
      "memory usage: 1.6 KB\n"
     ]
    }
   ],
   "source": [
    "df = pd.read_csv('data/ex1/ex1data1.txt', header=None)\n",
    "df.info()\n",
    "df.columns = ['city_population', 'profit']"
   ]
  },
  {
   "cell_type": "code",
   "execution_count": 4,
   "metadata": {},
   "outputs": [
    {
     "data": {
      "text/html": [
       "<div>\n",
       "<style scoped>\n",
       "    .dataframe tbody tr th:only-of-type {\n",
       "        vertical-align: middle;\n",
       "    }\n",
       "\n",
       "    .dataframe tbody tr th {\n",
       "        vertical-align: top;\n",
       "    }\n",
       "\n",
       "    .dataframe thead th {\n",
       "        text-align: right;\n",
       "    }\n",
       "</style>\n",
       "<table border=\"1\" class=\"dataframe\">\n",
       "  <thead>\n",
       "    <tr style=\"text-align: right;\">\n",
       "      <th></th>\n",
       "      <th>city_population</th>\n",
       "      <th>profit</th>\n",
       "    </tr>\n",
       "  </thead>\n",
       "  <tbody>\n",
       "    <tr>\n",
       "      <th>0</th>\n",
       "      <td>6.1101</td>\n",
       "      <td>17.5920</td>\n",
       "    </tr>\n",
       "    <tr>\n",
       "      <th>1</th>\n",
       "      <td>5.5277</td>\n",
       "      <td>9.1302</td>\n",
       "    </tr>\n",
       "    <tr>\n",
       "      <th>2</th>\n",
       "      <td>8.5186</td>\n",
       "      <td>13.6620</td>\n",
       "    </tr>\n",
       "    <tr>\n",
       "      <th>3</th>\n",
       "      <td>7.0032</td>\n",
       "      <td>11.8540</td>\n",
       "    </tr>\n",
       "    <tr>\n",
       "      <th>4</th>\n",
       "      <td>5.8598</td>\n",
       "      <td>6.8233</td>\n",
       "    </tr>\n",
       "  </tbody>\n",
       "</table>\n",
       "</div>"
      ],
      "text/plain": [
       "   city_population   profit\n",
       "0           6.1101  17.5920\n",
       "1           5.5277   9.1302\n",
       "2           8.5186  13.6620\n",
       "3           7.0032  11.8540\n",
       "4           5.8598   6.8233"
      ]
     },
     "execution_count": 4,
     "metadata": {},
     "output_type": "execute_result"
    }
   ],
   "source": [
    "df.head()"
   ]
  },
  {
   "cell_type": "markdown",
   "metadata": {},
   "source": [
    "## 2.1 Plotting the data\n",
    "Package: matplotlib  \n",
    "EDA.  Use a scatter plot to visualize the data, since it has only two properties to plot (profit and population)."
   ]
  },
  {
   "cell_type": "code",
   "execution_count": 5,
   "metadata": {},
   "outputs": [
    {
     "name": "stdout",
     "output_type": "stream",
     "text": [
      "Number of data points: 97\n"
     ]
    },
    {
     "data": {
      "image/png": "[encoded data removed]",
      "text/plain": [
       "<Figure size 720x576 with 1 Axes>"
      ]
     },
     "metadata": {},
     "output_type": "display_data"
    }
   ],
   "source": [
    "X=df['city_population']\n",
    "y=df['profit']\n",
    "\n",
    "#m - number of training examples\n",
    "m=len(df)\n",
    "print (\"Number of data points: {}\".format(m))\n",
    "\n",
    "plt.figure(figsize=(10,8))\n",
    "plt.title('Foodtruck Profits')\n",
    "plt.scatter(X,y, marker = 'x', c='r')\n",
    "plt.xlabel('City Population (in 10K)')\n",
    "plt.ylabel ('Profit (in $10K)')\n",
    "plt.show()"
   ]
  },
  {
   "cell_type": "markdown",
   "metadata": {},
   "source": [
    "## 2.2  Gradient Descent\n",
    "Objective: fit the linear regression parameters $\\theta$  to our dataset using gradient descent.\n",
    "\n",
    "### 2.2.1 Update Equations\n",
    "\n",
    "The objective of linear regression is to minimize the cost function\n",
    "\n",
    "$$ J(\\theta) = \\frac{1}{2m} \\sum_{i=1}^m \\left( h_{\\theta}(x^{(i)}) - y^{(i)}\\right)^2$$\n",
    "\n",
    "where the hypothesis $h_\\theta(x)$ is given by the linear model\n",
    "$$ h_\\theta(x) = \\theta^Tx = \\theta_0 + \\theta_1 x_1$$\n",
    "\n",
    "Recall that the parameters of your model are the $\\theta_j$ values. These are\n",
    "the values you will adjust to minimize cost $J(\\theta)$. One way to do this is to\n",
    "use the batch gradient descent algorithm. In batch gradient descent, each\n",
    "iteration performs the update\n",
    "\n",
    "$$ \\theta_j = \\theta_j - \\alpha \\frac{1}{m} \\sum_{i=1}^m \\left( h_\\theta(x^{(i)}) - y^{(i)}\\right)x_j^{(i)} \\qquad \\text{simultaneously update } \\theta_j \\text{ for all } j$$\n",
    "\n",
    "With each step of gradient descent, your parameters $\\theta_j$ come closer to the optimal values that will achieve the lowest cost J($\\theta$).\n",
    "\n",
    "<div class=\"alert alert-block alert-info\">\n",
    "**Implementation Note:**  \n",
    "We store each example as a row in the the $X$ matrix in Python `numpy`.  \n",
    "To take into account the intercept term $\\theta_0$, we add an additional first column to $X$ and set it to all ones. This allows us to treat $\\theta_0$ as simply another 'feature'.\n",
    "</div>"
   ]
  },
  {
   "cell_type": "markdown",
   "metadata": {},
   "source": [
    "### 2.2.2 Implementation\n",
    "We have already set up the data for linear regression.  \n",
    "In the following lines, we add another dimension to our data to accommodate the $\\theta_0$ intercept term.  \n",
    "We also initialize the initial parameters to 0 and the learning rate alpha to 0.01.\n",
    "\n",
    "<div class=\"alert alert-success\">\n",
    "myNote:  \n",
    "*X* (matrix)  - input features  \n",
    "*y* (vector)  - output variable  \n",
    "$\\theta$ (vector) - parameters  \n",
    "<br>\n",
    "dim:  \n",
    "*n* - rows, here # of features  \n",
    "*m* - columns, here # of training examples\n",
    "</div>"
   ]
  },
  {
   "cell_type": "code",
   "execution_count": 6,
   "metadata": {},
   "outputs": [
    {
     "name": "stdout",
     "output_type": "stream",
     "text": [
      "X features: X_0 = 1 (bias var), X_1 = city populations\n",
      "X shape:  (2, 97)\n",
      "# of features:  2\n",
      "# of records:  97\n",
      "y shape:  (1, 97)\n"
     ]
    }
   ],
   "source": [
    "# Add a column of ones to X\n",
    "print(\"X features: X_0 = 1 (bias var), X_1 = city populations\")\n",
    "X = np.array([np.ones(m), df.loc[:,'city_population']])\n",
    "print('X shape: ', X.shape)\n",
    "\n",
    "# Number of features, number of records\n",
    "n = X.shape[0]\n",
    "print('# of features: ', n)\n",
    "print('# of records: ', m)\n",
    "\n",
    "# Define y \n",
    "y=np.array([df.loc[:,'profit']])\n",
    "print('y shape: ', y.shape)"
   ]
  },
  {
   "cell_type": "code",
   "execution_count": 7,
   "metadata": {},
   "outputs": [
    {
     "name": "stdout",
     "output_type": "stream",
     "text": [
      "θ shape:  (2, 1)\n",
      "θ: \n",
      " [[0.]\n",
      " [0.]]\n"
     ]
    }
   ],
   "source": [
    "#initialize fitting parameters\n",
    "#np.array([[0],[0]])\n",
    "theta = np.zeros((n, 1))\n",
    "print('θ shape: ', theta.shape)\n",
    "print('θ: \\n',theta)\n",
    "\n",
    "#initialize gradient descent settings\n",
    "iterations = 1500\n",
    "alpha = 0.01\n"
   ]
  },
  {
   "cell_type": "markdown",
   "metadata": {},
   "source": [
    "### 2.2.3 Computing the cost $J(\\theta)$\n",
    "As you perform gradient descent to learn minimize the cost function $J(\\theta)$, it is helpful to monitor the convergence by computing the cost. In this section, you will implement a function to calculate $J(\\theta)$ so you can check the convergence of your gradient descent implementation. \n",
    "\n",
    "Remember that the variables $X$ and $y$ are not scalar values. $X$ is a matrix whose rows represent the examples from the training set and $y$ is a vector whose each elemennt represent the value at a given row of $X$.\n",
    "\n",
    "<div class=\"alert alert-success\">\n",
    "myNote:  \n",
    "X          matrix  (2,97)  \n",
    "theta      vector  (2,1)   \n",
    "<br>\n",
    "Matrix multiplication:  \n",
    "y_hat = theta.T $*$ X => (1,2) x (2,97) = (1,97)\n",
    "</div>"
   ]
  },
  {
   "cell_type": "code",
   "execution_count": 8,
   "metadata": {},
   "outputs": [],
   "source": [
    "def computeCost(X,y,theta):\n",
    "    \"\"\" function ComputeCost\n",
    "    \n",
    "    Objective\n",
    "    =========\n",
    "    Compute cost for linear regression \n",
    "    using theta as the parameter for linear regression \n",
    "    to fit the data points in X and y\n",
    "        \n",
    "    Paremeters\n",
    "    =========\n",
    "    input  X - matrix shape (n+1, m)\n",
    "    output y - shape (1, m)\n",
    "    params theta - vector shape (n+1, )\n",
    "    \n",
    "    Returns\n",
    "    =========\n",
    "    cost function J, type float\n",
    "\n",
    "    Notes\n",
    "    ========= \n",
    "    y_hat = theta.T * X => (1, n+1) x (n+1, m) => shape (1, m)     (same as y)\n",
    "\n",
    "    to multiply: use np.dot(theta.T, X)\n",
    "    refer: https://docs.scipy.org/doc/numpy/reference/generated/numpy.dot.html\n",
    "    \"\"\"\n",
    "    #initialize vars\n",
    "    J=0\n",
    "    m = y.shape[1] # number of training examples\n",
    "    \n",
    "    #compute hypothesis\n",
    "    y_hat = np.dot( theta.T, X )\n",
    "    #compute error\n",
    "    error = y_hat - y\n",
    "    error_sqrd = error**2\n",
    "    #compute cost     \n",
    "    J = error_sqrd.sum() / (2*m)\n",
    "    \n",
    "    return J"
   ]
  },
  {
   "cell_type": "markdown",
   "metadata": {},
   "source": [
    "#### Test the cost function\n",
    "Run computeCost using $\\theta$ initialized to zeros.  "
   ]
  },
  {
   "cell_type": "code",
   "execution_count": 9,
   "metadata": {},
   "outputs": [
    {
     "name": "stdout",
     "output_type": "stream",
     "text": [
      "32.072733877455676\n",
      "54.24245508201238\n"
     ]
    }
   ],
   "source": [
    "# Use and validate function\n",
    "print(computeCost(X,y,theta))\n",
    "\n",
    "#additional check, should see (approx) 54.24\n",
    "theta2 = np.array([[-1], [2]])\n",
    "print(computeCost(X,y,theta2))"
   ]
  },
  {
   "cell_type": "markdown",
   "metadata": {},
   "source": [
    "<div class=\"alert alert-block alert-warning\">\n",
    "Peek at the answer:  \n",
    "With $\\theta$ = [0 ; 0] expected cost value (approx) 32.07  \n",
    "With $\\theta$ = [-1 ; 2] expected cost value (approx) 54.24\n",
    "</div>\n",
    "\n",
    "### 2.2.4 Gradient descent\n",
    "As you program, make sure you understand what you are trying to optimize and what is being updated. Keep in mind that the cost $J(\\theta)$ is parameterized by the vector $\\theta$, not $X$ and $y$. That is, we minimize the value of $J(\\theta)$ by changing the values of the vector $\\theta$, not by changing $X$ or $y$. \n",
    "\n",
    "A good way to verify that gradient descent is working correctly is to look at the value of $J(\\theta)$ and check that it is decreasing with each step. Assuming you have implemented gradient descent and `computeCost` correctly, your value of $J(\\theta)$ should never increase, and should converge to a steady value by the end of the algorithm.\n",
    "\n",
    "\n",
    "<div class=\"alert alert-success\">\n",
    "myNote:  \n",
    "X matrix        (2,97)  \n",
    "y               (1,97)  \n",
    "theta vector    (2,1)   \n",
    "<br>\n",
    "Matrix multiplication:  \n",
    "y_hat = theta.T $*$ X => (1,2) x (2,97) = (1,97)   (same as y)  \n",
    "error = y_hat - y => (1,97)                      (same as y)  \n",
    "gradient = X $*$ (error/m).T  => (2,97) x (97,1) => vecor (2,1) (same as theta)\n",
    "</div>"
   ]
  },
  {
   "cell_type": "code",
   "execution_count": 21,
   "metadata": {},
   "outputs": [],
   "source": [
    "def gradientDescent(X,y,theta, alpha, num_iters):\n",
    "    \"\"\" function ComputeCost\n",
    "    \n",
    "    Objective\n",
    "    =========\n",
    "    Fit the linear regression parameters θ to our dataset\n",
    "    Minimize the value of J(θ) by changing the values of the vector θ (not by changing X or y)\n",
    "        \n",
    "    Paremeters\n",
    "    =========\n",
    "    input  X - matrix shape (n+1, m)\n",
    "    output y - shape (1, m)\n",
    "    params theta - vector shape (n+1, )\n",
    "    alpha - learning rate \n",
    "    num_iters - number of iterations\n",
    "    \n",
    "    Returns\n",
    "    =========\n",
    "    updated theta\n",
    "    J history\n",
    "\n",
    "    Notes\n",
    "    ========= \n",
    "    y_hat = theta.T * X => (1, n+1) x (n+1, m) => shape (1, m)     (same as y)\n",
    "    error = y_hat - y   =>                        shape (1, m)     (same as y)\n",
    "    gradient = vector                             shape (n+1, )    (same as theta)\n",
    "    X * (error/m).T => (n+1, m) x (m, 1) =>       shape  n+1, ) \n",
    "\n",
    "    to multiply: use np.dot(theta.T, X)\n",
    "    refer: https://docs.scipy.org/doc/numpy/reference/generated/numpy.dot.html\n",
    "    \"\"\"\n",
    "\n",
    "    #Initialize vars\n",
    "    m = X.shape[1]; # number of training examples\n",
    "    J_history = np.zeros(num_iters)\n",
    "    \n",
    "    #Compute theta\n",
    "    for i in np.arange(0, num_iters):\n",
    "        #compute hypothesis\n",
    "        y_hat = np.dot(theta.T, X)\n",
    "        #compute error\n",
    "        error = y_hat - y\n",
    "        \n",
    "        #calculate gradient - see my notes        \n",
    "        gradient = np.dot(X, (error/m).T)\n",
    "        theta_temp = theta - alpha * gradient\n",
    "        theta = theta_temp\n",
    "        \n",
    "        #Save the cost J in every iteration    \n",
    "        J_history[i] = computeCost(X, y, theta)\n",
    "        \n",
    "        #preview\n",
    "        i_preview = 3\n",
    "        if (i < i_preview) or (i > (iterations - i_preview)):\n",
    "            print (\"i: {}, \\ngradient: {}, \\nupdated theta: {}, \\nupdated cost: {}\\n\".format(i, gradient, theta_temp, J_history[i]))\n",
    "        \n",
    "    return theta, J_history\n"
   ]
  },
  {
   "cell_type": "markdown",
   "metadata": {},
   "source": [
    "#### Run gradient descent"
   ]
  },
  {
   "cell_type": "code",
   "execution_count": 22,
   "metadata": {},
   "outputs": [
    {
     "name": "stdout",
     "output_type": "stream",
     "text": [
      "initial theta: [[0.]\n",
      " [0.]]\n",
      "\n",
      "updated theta and J history\n",
      "i: 0, \n",
      "gradient: [[ -5.83913505]\n",
      " [-65.32884975]], \n",
      "updated theta: [[0.05839135]\n",
      " [0.6532885 ]], \n",
      "updated cost: 6.737190464870008\n",
      "\n",
      "i: 1, \n",
      "gradient: [[ -0.45004022]\n",
      " [-11.67212851]], \n",
      "updated theta: [[0.06289175]\n",
      " [0.77000978]], \n",
      "updated cost: 5.9315935686049555\n",
      "\n",
      "i: 2, \n",
      "gradient: [[ 0.50688252]\n",
      " [-2.13383331]], \n",
      "updated theta: [[0.05782293]\n",
      " [0.79134812]], \n",
      "updated cost: 5.901154707081388\n",
      "\n",
      "i: 1498, \n",
      "gradient: [[ 0.04803002]\n",
      " [-0.00482514]], \n",
      "updated theta: [[-3.62981201]\n",
      " [ 1.16631419]], \n",
      "updated cost: 4.483411453374869\n",
      "\n",
      "i: 1499, \n",
      "gradient: [[ 0.04794344]\n",
      " [-0.00481644]], \n",
      "updated theta: [[-3.63029144]\n",
      " [ 1.16636235]], \n",
      "updated cost: 4.483388256587726\n",
      "\n"
     ]
    }
   ],
   "source": [
    "theta = np.zeros((n, 1))\n",
    "print(\"initial theta: {}\\n\".format(theta))\n",
    "print(\"updated theta and J history\")\n",
    "theta, history = gradientDescent(X, y, theta, alpha, iterations)"
   ]
  },
  {
   "cell_type": "code",
   "execution_count": 12,
   "metadata": {},
   "outputs": [
    {
     "name": "stdout",
     "output_type": "stream",
     "text": [
      "Theta found by gradient descent:\n",
      " [[-3.63029144]\n",
      " [ 1.16636235]]\n"
     ]
    }
   ],
   "source": [
    "print('Theta found by gradient descent:\\n', theta)"
   ]
  },
  {
   "cell_type": "markdown",
   "metadata": {},
   "source": [
    "<div class=\"alert alert-block alert-warning\">\n",
    "Peek at the answer:  \n",
    "Expected theta values (approx) '-3.6303, 1.1664 '\n",
    "</div>\n",
    "\n",
    "#### Predict\n",
    "Your final values for θ will also be used to make predictions on profits in areas of 35,000 and 70,000 people.  Use matrix multiplication, rather than explicit summation or looping, to calculate the predictions. This is an example of code vectorization.  "
   ]
  },
  {
   "cell_type": "code",
   "execution_count": 13,
   "metadata": {},
   "outputs": [
    {
     "name": "stdout",
     "output_type": "stream",
     "text": [
      "[0.45197679]\n",
      "[4.53424501]\n"
     ]
    }
   ],
   "source": [
    "predict1 = np.dot([1, 3.5], theta)\n",
    "print(predict1)\n",
    "predict2 = np.dot([1, 7], theta)\n",
    "print(predict2)"
   ]
  },
  {
   "cell_type": "markdown",
   "metadata": {},
   "source": [
    "## 2.3 Communicate Results\n",
    "### Plot the linear fit\n",
    "Hypothesis $h_\\theta(x)$ is given by the linear model\n",
    "$$ h_\\theta(x) = \\theta^Tx = \\theta_0 + \\theta_1 x_1$$"
   ]
  },
  {
   "cell_type": "code",
   "execution_count": 20,
   "metadata": {},
   "outputs": [
    {
     "name": "stdout",
     "output_type": "stream",
     "text": [
      "Linear model after finding thetas: \n",
      "y_hat = -3.63 + 1.17 * x_1\n"
     ]
    }
   ],
   "source": [
    "print(\"Linear model after finding thetas: \")\n",
    "print (\"y_hat = {:.2f} + {:.2f} * x_1\".format( theta[0][0], theta[1][0]))"
   ]
  },
  {
   "cell_type": "code",
   "execution_count": 18,
   "metadata": {},
   "outputs": [
    {
     "data": {
      "image/png": "[encoded data removed]",
      "text/plain": [
       "<Figure size 720x576 with 1 Axes>"
      ]
     },
     "metadata": {},
     "output_type": "display_data"
    }
   ],
   "source": [
    "#visualize\n",
    "plt.figure(figsize=(10,8))\n",
    "plt.title('Foodtruck Profits - Linear Model')\n",
    "\n",
    "plt.plot(X[1,:],y[0], 'rx', label = 'Training data')\n",
    "plt.plot(X[1,:],np.dot(X.T, theta), 'b-', label = 'Linear regression')\n",
    "\n",
    "plt.xlabel('City Population (in 10K)')\n",
    "plt.ylabel ('Profit (in $10K)')\n",
    "plt.grid(True)\n",
    "plt.legend()\n",
    "plt.show()"
   ]
  },
  {
   "cell_type": "markdown",
   "metadata": {},
   "source": [
    "### Congratulations! You now understand univariate linear regression."
   ]
  },
  {
   "cell_type": "code",
   "execution_count": null,
   "metadata": {},
   "outputs": [],
   "source": []
  }
 ],
 "metadata": {
  "kernelspec": {
   "display_name": "Python 3",
   "language": "python",
   "name": "python3"
  },
  "language_info": {
   "codemirror_mode": {
    "name": "ipython",
    "version": 3
   },
   "file_extension": ".py",
   "mimetype": "text/x-python",
   "name": "python",
   "nbconvert_exporter": "python",
   "pygments_lexer": "ipython3",
   "version": "3.6.7"
  }
 },
 "nbformat": 4,
 "nbformat_minor": 2
}
