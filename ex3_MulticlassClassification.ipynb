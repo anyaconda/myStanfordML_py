{
 "cells": [
  {
   "cell_type": "code",
   "execution_count": 1,
   "metadata": {},
   "outputs": [],
   "source": [
    "#meta: 4/30/2020 Ex3 Multiclass Classification and Neural Networks.  \n",
    "# One-vs-all logistic regression and intro to neural nets - recognize hand-written digits.  \n",
    "# src Coursera, Standford ML course - refactor in python\n",
    "# src for markup  https://github.com/dibgerge/ml-coursera-python-assignments.git\n",
    "#see ex3.pdf\n",
    "#Numbering per original assignments\n",
    "\n",
    "#here 04/30/2020 One-vs-all Logistic Regression\n",
    "#      numpy for data load (not pandas)\n",
    "#      Reuse ML functions: myUtils.ml - sigmoid(), costFunctionReg() already vectorized\n",
    "#      Write OneVsAll to train multiclass classifier - return all_thetas\n",
    "#      Write predictOneVsAll() for multiclass - return a vector of predictions for each example in the matrix X. \n",
    "#      Reflection: Multiclass Logistic Regression is great, but still only linear in nature\n",
    "#\n",
    "#      Implement a neural network - intro (with already trained theta params)\n",
    "#      The neural network will be able to represent complex models that form non-linear hypotheses.\n",
    "#      Rewrite predict() for multiclass\n",
    "#      Implement the feedforward propagation algorithm to use our weights for prediction. \n",
    "#\n",
    "#      Next week: will write the backpropagation algorithm for learning the neural network parameters.\n"
   ]
  },
  {
   "cell_type": "code",
   "execution_count": 2,
   "metadata": {},
   "outputs": [],
   "source": [
    "import numpy as np\n",
    "\n",
    "#io\n",
    "from scipy.io import loadmat\n",
    "\n",
    "# Plot\n",
    "import matplotlib.pyplot as plt\n",
    "%matplotlib inline\n",
    "\n",
    "# Optimization module in scipy\n",
    "from scipy import optimize\n",
    "\n",
    "#import my utils\n",
    "from myUtils import ml as myML  # my own module\n"
   ]
  },
  {
   "cell_type": "markdown",
   "metadata": {},
   "source": [
    "Use logistic regression implement one-vs-all logistic regression and neural networks to recognize handwritten digits (from 0 to 9). \n",
    "\n",
    "# 1. Multiclass Classification\n",
    "\n",
    "\n",
    "## Recognize Handwritten Digits\n",
    "Automated handwritten digit recognition is widely used today - from recognizing zip codes (postal codes)\n",
    "on mail envelopes to recognizing amounts written on bank checks. This exercise will show you how the methods you have learned can be used for this classification task.\n",
    "\n",
    "In the first part of the exercise, you will extend your previous implementation of logistic regression and apply it to one-vs-all classification.\n",
    "\n",
    "\n",
    "## 1.1 Dataset\n",
    "\n",
    "You are given a data set that contains 5000 training examples of handwritten digits (This is a subset of the [MNIST](http://yann.lecun.com/exdb/mnist) handwritten digit dataset). \n",
    "\n",
    "There are 5000 training examples, where each training example is a 20 pixel by 20 pixel grayscale image of the digit. Each pixel is represented by a floating point number indicating the grayscale intensity at that location. The 20 by 20 grid of pixels is “unrolled” into a 400-dimensional vector. Each of these training examples becomes a single row in our data matrix `X`. This gives us a 5000 by 400 matrix `X` where every row is a training example for a handwritten digit image.\n",
    "\n",
    "$$ X = \\begin{bmatrix} - \\: (x^{(1)})^T \\: - \\\\ -\\: (x^{(2)})^T \\:- \\\\ \\vdots \\\\ - \\: (x^{(m)})^T \\:-  \\end{bmatrix} $$\n",
    "\n",
    "The second part of the training set is a 5000-dimensional vector `y` that contains labels for the training set. \n",
    "\n",
    "Dataset:  \n",
    "*x* - a 20 pixel by 20 pixel grayscale image of the digit (400-dimensional vector)  \n",
    "*y* - 5000 handwritten digits  \n",
    "\n",
    "Dims: m x n  => 5000 records x 400 features\n",
    " \n",
    "\n",
    "### 1.1.0 Load Data\n",
    "The `.mat` format means that that the data has been saved in a native Octave/MATLAB matrix format, instead of a text (ASCII) format like a csv-file. We use the `.mat` format here because this is the dataset provided in the MATLAB version of this assignment. Fortunately, python provides mechanisms to load MATLAB native format using the `loadmat` function within the `scipy.io` module. This function returns a python dictionary with keys containing the variable names within the `.mat` file. "
   ]
  },
  {
   "cell_type": "code",
   "execution_count": 3,
   "metadata": {},
   "outputs": [
    {
     "data": {
      "text/plain": [
       "dict_keys(['__header__', '__version__', '__globals__', 'X', 'y'])"
      ]
     },
     "execution_count": 3,
     "metadata": {},
     "output_type": "execute_result"
    }
   ],
   "source": [
    "data = loadmat('data/ex3/ex3data1.mat') #class dict\n",
    "\n",
    "#preview dict object\n",
    "data.keys()"
   ]
  },
  {
   "cell_type": "code",
   "execution_count": 4,
   "metadata": {},
   "outputs": [
    {
     "name": "stdout",
     "output_type": "stream",
     "text": [
      "X shape:  (5000, 400)\n",
      "Preview X:  [[0. 0. 0. ... 0. 0. 0.]\n",
      " [0. 0. 0. ... 0. 0. 0.]\n",
      " [0. 0. 0. ... 0. 0. 0.]\n",
      " [0. 0. 0. ... 0. 0. 0.]\n",
      " [0. 0. 0. ... 0. 0. 0.]]\n",
      "\n",
      "y shape:  (5000,)\n",
      "Preview y:  [10 10 10 10 10]\n"
     ]
    }
   ],
   "source": [
    "X, y = data['X'], data['y'].ravel() #class numpy.ndarray\n",
    "print(\"X shape: \", X.shape)\n",
    "print(\"Preview X: \", X[:5])\n",
    "print(\"\\ny shape: \", y.shape)\n",
    "print(\"Preview y: \",y[:5])"
   ]
  },
  {
   "cell_type": "code",
   "execution_count": 5,
   "metadata": {},
   "outputs": [],
   "source": [
    "m = len(y)"
   ]
  },
  {
   "cell_type": "markdown",
   "metadata": {},
   "source": [
    "## 1.2 Visualizing the data\n",
    "\n",
    "You will begin by visualizing a subset of the training set. In the following cell, the code randomly selects selects 100 rows from `X` and passes those rows to the `displayData` function. This function maps each row to a 20 pixel by 20 pixel grayscale image and displays the images together. We have provided the `displayData` function ( examine the code to see how it works). "
   ]
  },
  {
   "cell_type": "code",
   "execution_count": 6,
   "metadata": {},
   "outputs": [],
   "source": [
    "def displayData(X, example_width=None, figsize=(10, 10)):\n",
    "    \"\"\"\n",
    "    Displays 2D data stored in X in a nice grid.\n",
    "    \"\"\"\n",
    "    # Compute rows, cols\n",
    "    if X.ndim == 2:\n",
    "        m, n = X.shape\n",
    "    elif X.ndim == 1:\n",
    "        n = X.size\n",
    "        m = 1\n",
    "        X = X[None]  # Promote to a 2 dimensional array\n",
    "    else:\n",
    "        raise IndexError('Input X should be 1 or 2 dimensional.')\n",
    "\n",
    "    example_width = example_width or int(np.round(np.sqrt(n)))\n",
    "    example_height = n / example_width\n",
    "\n",
    "    # Compute number of items to display\n",
    "    display_rows = int(np.floor(np.sqrt(m)))\n",
    "    display_cols = int(np.ceil(m / display_rows))\n",
    "\n",
    "    fig, ax_array = plt.subplots(display_rows, display_cols, figsize=figsize)\n",
    "    fig.subplots_adjust(wspace=0.025, hspace=0.025)\n",
    "\n",
    "    ax_array = [ax_array] if m == 1 else ax_array.ravel()\n",
    "\n",
    "    for i, ax in enumerate(ax_array):\n",
    "        ax.imshow(X[i].reshape(example_width, example_width, order='F'),\n",
    "                  cmap='Greys', extent=[0, 1, 0, 1])\n",
    "        ax.axis('off')\n"
   ]
  },
  {
   "cell_type": "code",
   "execution_count": 7,
   "metadata": {},
   "outputs": [
    {
     "data": {
      "image/png": "[encoded data removed]",
      "text/plain": [
       "<Figure size 360x360 with 25 Axes>"
      ]
     },
     "metadata": {},
     "output_type": "display_data"
    }
   ],
   "source": [
    "# Randomly select 100 data points to display - 25 is enough\n",
    "idx_random = np.random.choice(m, 25, replace=False)\n",
    "sel = X[idx_random, :]\n",
    "\n",
    "displayData(sel, figsize= (5,5))"
   ]
  },
  {
   "cell_type": "markdown",
   "metadata": {},
   "source": [
    "## 1.3 Vectorizing Logistic Regression\n",
    "\n",
    "You will be using multiple one-vs-all logistic regression models to build a multi-class classifier. Since there are 10 classes, you will need to train 10 separate logistic regression classifiers. To make this training efficient, it is important to ensure that your code is well vectorized. In this section, you will implement a vectorized version of logistic regression that does not employ any `for` loops. You can use your code in the previous exercise as a starting point for this exercise. \n",
    "\n",
    "### 1.3.0 Test vectorized logistic regression (prev)\n",
    "\n",
    "Create a test dataset    \n",
    "dims: m x n  \n",
    "dims: 5 rows x (1+3) features"
   ]
  },
  {
   "cell_type": "code",
   "execution_count": 8,
   "metadata": {},
   "outputs": [
    {
     "name": "stdout",
     "output_type": "stream",
     "text": [
      "\n",
      "Testing if costFunction with regularization is vectorized\n",
      "X test: \n",
      " [[1.  0.1 0.6 1.1]\n",
      " [1.  0.2 0.7 1.2]\n",
      " [1.  0.3 0.8 1.3]\n",
      " [1.  0.4 0.9 1.4]\n",
      " [1.  0.5 1.  1.5]]\n",
      "y test:  [ True False  True False  True]\n",
      "-----------------------\n",
      "Cost         : 2.534819\n",
      "Expected cost: 2.534819\n",
      "Gradients:\n",
      " [0.146561, -0.548558, 0.724722, 1.398003]\n",
      "Expected gradients:\n",
      " [0.146561, -0.548558, 0.724722, 1.398003]\n"
     ]
    }
   ],
   "source": [
    "# Teuse your regularized logistic regression code from the last exercise\n",
    "# make sure its implementation is vectorized\n",
    "\n",
    "# Test case for lrCostFunction\n",
    "print('\\nTesting if costFunction with regularization is vectorized')\n",
    "\n",
    "#Custom test dataset\n",
    "theta_t = np.array([-2, -1, 1, 2])\n",
    "X_t_features = np.arange(1,16).reshape(5,3, order='F')/10.0\n",
    "X_t = np.concatenate([np.ones((5,1)), X_t_features], axis=1)\n",
    "y_t = np.array([1,0,1,0,1]) >= 0.5\n",
    "       \n",
    "print (\"X test: \\n\", X_t)\n",
    "print (\"y test: \", y_t)\n",
    "\n",
    "#set params\n",
    "lambda_t = 3\n",
    "\n",
    "#compute cost and gradient\n",
    "J, grad = myML.costFunctionReg_LogisticR(theta_t, X_t, y_t, lambda_t)\n",
    "\n",
    "#view cost and gradients\n",
    "print('-----------------------')\n",
    "print('Cost         : {:.6f}'.format(J))\n",
    "print('Expected cost: 2.534819')\n",
    "print('Gradients:')\n",
    "print(' [{:.6f}, {:.6f}, {:.6f}, {:.6f}]'.format(*grad))\n",
    "print('Expected gradients:')\n",
    "print(' [0.146561, -0.548558, 0.724722, 1.398003]');"
   ]
  },
  {
   "cell_type": "markdown",
   "metadata": {},
   "source": [
    "My previoius version of logistic regression (regularized and not) was implemented as vectorized, no internal loops.  Nothing to redo here.  It lives in myUtils and is ready to work with multiclass.\n"
   ]
  },
  {
   "cell_type": "markdown",
   "metadata": {},
   "source": [
    "<a id=\"section1\"></a>\n",
    "### 1.3.1 Vectorizing the cost function - Review\n",
    "\n",
    "We will begin by writing a vectorized version of the cost function. Recall that in (unregularized) logistic regression, the cost function is\n",
    "\n",
    "$$ J(\\theta) = \\frac{1}{m} \\sum_{i=1}^m \\left[ -y^{(i)} \\log \\left( h_\\theta\\left( x^{(i)} \\right) \\right) - \\left(1 - y^{(i)} \\right) \\log \\left(1 - h_\\theta \\left( x^{(i)} \\right) \\right) \\right] $$\n",
    "\n",
    "To compute each element in the summation, we have to compute $h_\\theta(x^{(i)})$ for every example $i$, where $h_\\theta(x^{(i)}) = g(\\theta^T x^{(i)})$ and $g(z) = \\frac{1}{1+e^{-z}}$ is the sigmoid function. It turns out that we can compute this quickly for all our examples by using matrix multiplication. Let us define $X$ and $\\theta$ as\n",
    "\n",
    "$$ X = \\begin{bmatrix} - \\left( x^{(1)} \\right)^T - \\\\ - \\left( x^{(2)} \\right)^T - \\\\ \\vdots \\\\ - \\left( x^{(m)} \\right)^T - \\end{bmatrix} \\qquad \\text{and} \\qquad \\theta = \\begin{bmatrix} \\theta_0 \\\\ \\theta_1 \\\\ \\vdots \\\\ \\theta_n \\end{bmatrix} $$\n",
    "\n",
    "Then, by computing the matrix product $X\\theta$, we have: \n",
    "\n",
    "$$ X\\theta = \\begin{bmatrix} - \\left( x^{(1)} \\right)^T\\theta - \\\\ - \\left( x^{(2)} \\right)^T\\theta - \\\\ \\vdots \\\\ - \\left( x^{(m)} \\right)^T\\theta - \\end{bmatrix} = \\begin{bmatrix} - \\theta^T x^{(1)}  - \\\\ - \\theta^T x^{(2)} - \\\\ \\vdots \\\\ - \\theta^T x^{(m)}  - \\end{bmatrix} $$\n",
    "\n",
    "In the last equality, we used the fact that $a^Tb = b^Ta$ if $a$ and $b$ are vectors. This allows us to compute the products $\\theta^T x^{(i)}$ for all our examples $i$ in one line of code.\n",
    "\n",
    "#### 1.3.2 Vectorizing the gradient\n",
    "\n",
    "Recall that the gradient of the (unregularized) logistic regression cost is a vector where the $j^{th}$ element is defined as\n",
    "\n",
    "$$ \\frac{\\partial J }{\\partial \\theta_j} = \\frac{1}{m} \\sum_{i=1}^m \\left( \\left( h_\\theta\\left(x^{(i)}\\right) - y^{(i)} \\right)x_j^{(i)} \\right) $$\n",
    "\n",
    "To vectorize this operation over the dataset, we start by writing out all the partial derivatives explicitly for all $\\theta_j$,\n",
    "\n",
    "$$\n",
    "\\begin{align*}\n",
    "\\begin{bmatrix} \n",
    "\\frac{\\partial J}{\\partial \\theta_0} \\\\\n",
    "\\frac{\\partial J}{\\partial \\theta_1} \\\\\n",
    "\\frac{\\partial J}{\\partial \\theta_2} \\\\\n",
    "\\vdots \\\\\n",
    "\\frac{\\partial J}{\\partial \\theta_n}\n",
    "\\end{bmatrix} = &\n",
    "\\frac{1}{m} \\begin{bmatrix}\n",
    "\\sum_{i=1}^m \\left( \\left(h_\\theta\\left(x^{(i)}\\right) - y^{(i)} \\right)x_0^{(i)}\\right) \\\\\n",
    "\\sum_{i=1}^m \\left( \\left(h_\\theta\\left(x^{(i)}\\right) - y^{(i)} \\right)x_1^{(i)}\\right) \\\\\n",
    "\\sum_{i=1}^m \\left( \\left(h_\\theta\\left(x^{(i)}\\right) - y^{(i)} \\right)x_2^{(i)}\\right) \\\\\n",
    "\\vdots \\\\\n",
    "\\sum_{i=1}^m \\left( \\left(h_\\theta\\left(x^{(i)}\\right) - y^{(i)} \\right)x_n^{(i)}\\right) \\\\\n",
    "\\end{bmatrix} \\\\\n",
    "= & \\frac{1}{m} \\sum_{i=1}^m \\left( \\left(h_\\theta\\left(x^{(i)}\\right) - y^{(i)} \\right)x^{(i)}\\right) \\\\\n",
    "= & \\frac{1}{m} X^T \\left( h_\\theta(x) - y\\right)\n",
    "\\end{align*}\n",
    "$$\n",
    "\n",
    "where\n",
    "\n",
    "$$  h_\\theta(x) - y = \n",
    "\\begin{bmatrix}\n",
    "h_\\theta\\left(x^{(1)}\\right) - y^{(1)} \\\\\n",
    "h_\\theta\\left(x^{(2)}\\right) - y^{(2)} \\\\\n",
    "\\vdots \\\\\n",
    "h_\\theta\\left(x^{(m)}\\right) - y^{(m)} \n",
    "\\end{bmatrix} $$\n",
    "\n",
    "Note that $x^{(i)}$ is a vector, while $h_\\theta\\left(x^{(i)}\\right) - y^{(i)}$  is a scalar (single number).\n",
    "To understand the last step of the derivation, let $\\beta_i = (h_\\theta\\left(x^{(m)}\\right) - y^{(m)})$ and\n",
    "observe that:\n",
    "\n",
    "$$ \\sum_i \\beta_ix^{(i)} = \\begin{bmatrix} \n",
    "| & | & & | \\\\\n",
    "x^{(1)} & x^{(2)} & \\cdots & x^{(m)} \\\\\n",
    "| & | & & | \n",
    "\\end{bmatrix}\n",
    "\\begin{bmatrix}\n",
    "\\beta_1 \\\\\n",
    "\\beta_2 \\\\\n",
    "\\vdots \\\\\n",
    "\\beta_m\n",
    "\\end{bmatrix} = x^T \\beta\n",
    "$$\n",
    "\n",
    "where the values $\\beta_i = \\left( h_\\theta(x^{(i)} - y^{(i)} \\right)$.\n",
    "\n",
    "The expression above allows us to compute all the partial derivatives\n",
    "without any loops. If you are comfortable with linear algebra, we encourage you to work through the matrix multiplications above to convince yourself that the vectorized version does the same computations. \n",
    "\n",
    "Your job is to write the unregularized cost function `lrCostFunction` which returns both the cost function $J(\\theta)$ and its gradient $\\frac{\\partial J}{\\partial \\theta}$. Your implementation should use the strategy we presented above to calculate $\\theta^T x^{(i)}$. You should also use a vectorized approach for the rest of the cost function. A fully vectorized version of `lrCostFunction` should not contain any loops.\n",
    "\n",
    "<div class=\"alert alert-box alert-warning\">\n",
    "**Debugging Tip:** Vectorizing code can sometimes be tricky. One common strategy for debugging is to print out the sizes of the matrices you are working with using the `shape` property of `numpy` arrays. For example, given a data matrix $X$ of size $100 \\times 20$ (100 examples, 20 features) and $\\theta$, a vector with size $20$, you can observe that `np.dot(X, theta)` is a valid multiplication operation, while `np.dot(theta, X)` is not. Furthermore, if you have a non-vectorized version of your code, you can compare the output of your vectorized code and non-vectorized code to make sure that they produce the same outputs.\n",
    "</div>\n",
    "<a id=\"lrCostFunction\"></a>"
   ]
  },
  {
   "cell_type": "markdown",
   "metadata": {},
   "source": [
    "<a id=\"section2\"></a>\n",
    "### 1.4 One-vs-all Classification\n",
    "\n",
    "In this part of the exercise, you will implement one-vs-all classification by training multiple regularized logistic regression classifiers, one for each of the $K$ classes in our dataset. In the handwritten digits dataset, $K = 10$, but your code should work for any value of $K$. \n",
    "\n",
    "You should now complete the code for the function `oneVsAll` below, to train one classifier for each class. In particular, your code should return all the classifier parameters in a matrix $\\theta \\in \\mathbb{R}^{K \\times (N +1)}$, where each row of $\\theta$ corresponds to the learned logistic regression parameters for one class. You can do this with a “for”-loop from $0$ to $K-1$, training each classifier independently.\n",
    "\n",
    "Note that the `y` argument to this function is a vector of labels from 0 to 9. When training the classifier for class $k \\in \\{0, ..., K-1\\}$, you will want a K-dimensional vector of labels $y$, where $y_j \\in 0, 1$ indicates whether the $j^{th}$ training instance belongs to class $k$ $(y_j = 1)$, or if it belongs to a different\n",
    "class $(y_j = 0)$. You may find logical arrays helpful for this task. \n",
    "\n",
    "Furthermore, you will be using scipy's `optimize.minimize` for this exercise. \n",
    "<a id=\"oneVsAll\"></a>"
   ]
  },
  {
   "cell_type": "code",
   "execution_count": 9,
   "metadata": {},
   "outputs": [],
   "source": [
    "def oneVsAll(X, y, num_labels, lambda_):\n",
    "    \"\"\"\n",
    "    Trains num_labels logistic regression classifiers and returns each of these classifiers in \n",
    "    a matrix all_theta, where the i-th row of all_theta corresponds to the classifier for label i.\n",
    "    \n",
    "    Parameters\n",
    "    ----------\n",
    "    X : array_like\n",
    "        The input dataset of shape (m x n+1) where\n",
    "        m = total number of data points and\n",
    "        n = number of features.\n",
    "        We don't assume the intercept term is already in X, however we add the bias term to X here.\n",
    "    \n",
    "    y : array_like\n",
    "        The data labels. A vector of shape (m, ).\n",
    "    \n",
    "    num_labels : int\n",
    "        Number of possible labels.\n",
    "    \n",
    "    lambda_ : float\n",
    "        The logistic regularization parameter.\n",
    "    \n",
    "    Returns\n",
    "    -------\n",
    "    all_theta : array_like\n",
    "        The trained parameters for logistic regression for each class. A matrix of shape (K x n+1) where \n",
    "        K = number of classes (ie. `num_labels`) and \n",
    "        n = number of features without the bias.\n",
    "    \n",
    "    Hint\n",
    "    ----\n",
    "    Use y == c to obtain a vector of 1s and 0s that tell you whether the ground truth is true/false for this class.\n",
    "    \n",
    "    Note\n",
    "    ----\n",
    "    For this assignment, we recommend using `scipy.optimize.minimize(method='CG')`to optimize the cost function. \n",
    "    It is okay to use a for-loop (`for c in range(num_labels):`) to loop over the different classes.\n",
    "    \n",
    "    Example Code\n",
    "    ------------\n",
    "    \n",
    "    # Set Initial theta\n",
    "    initial_theta = np.zeros(n + 1)\n",
    "\n",
    "    # Set options for minimize\n",
    "    options = {'maxiter': 50}\n",
    "\n",
    "    # Run minimize to obtain the optimal theta. This function will return a class object where theta is in `res.x` and cost in `res.fun`\n",
    "    res = optimize.minimize(lrCostFunction, \n",
    "                            initial_theta, \n",
    "                            (X, (y == c), lambda_), \n",
    "                            jac=True, \n",
    "                            method='CG',\n",
    "                            options=options) \n",
    "    \"\"\"\n",
    "    # Some useful variables\n",
    "    m, n = X.shape\n",
    "    \n",
    "    # You need to return the following variables correctly \n",
    "    all_theta = np.zeros((num_labels, n + 1)) #$note: ok with looping\n",
    "    \n",
    "    # Add ones to the X data matrix\n",
    "    X = np.concatenate([np.ones((m, 1)), X], axis=1)\n",
    "    \n",
    "\n",
    "    # ====================== YOUR CODE HERE ======================\n",
    "    \n",
    "    # Loop for each class\n",
    "    for c in np.arange(num_labels):\n",
    "        #print(\"Class: \", c)\n",
    "        #use y value\n",
    "        #y==c+1)[:,0]\n",
    "        \n",
    "        # Set Initial theta\n",
    "        initial_theta = np.zeros(n+1)\n",
    "        \n",
    "        # Compute and display initial cost and gradient for regularized logistic regression\n",
    "        #cost, grad = costFunctionReg_LogisticR(initial_theta, X, (y==c+1), lambda_) #$note: troubleshooting only\n",
    "        \n",
    "        # set options for optimize.minimize\n",
    "        options= {'maxiter': 50}\n",
    "        \n",
    "        # Run minimize to obtain the optimal theta. \n",
    "        # This function will return a class object where theta is in `res.x` and cost in `res.fun`\n",
    "        res = optimize.minimize(myML.costFunctionReg_LogisticR,\n",
    "                            initial_theta,\n",
    "                            (X, y==c+1, lambda_),\n",
    "                            jac=True,\n",
    "                            method='CG',\n",
    "                            options=options)\n",
    "\n",
    "        # returns the value of costFunction at optimized theta\n",
    "        cost = res.fun\n",
    "        # the optimized theta is in the x property\n",
    "        theta = res.x\n",
    "        \n",
    "\n",
    "        # Print theta to screen\n",
    "        ##print('Cost at theta found by optimize.minimize: {:.3f}'.format(cost))\n",
    "        ##print('gradient: ', grad[0:2])\n",
    "        #print('this theta: ', theta.shape)\n",
    "        \n",
    "        all_theta[c] = theta\n",
    "\n",
    "    # ============================================================\n",
    "    return all_theta #all_theta\n"
   ]
  },
  {
   "cell_type": "markdown",
   "metadata": {},
   "source": [
    "Use your implementation to train a multi-class classifier. "
   ]
  },
  {
   "cell_type": "code",
   "execution_count": 10,
   "metadata": {},
   "outputs": [
    {
     "name": "stdout",
     "output_type": "stream",
     "text": [
      "theta:\n",
      "[[-3.15820257e+00  0.00000000e+00  0.00000000e+00 ...  5.10461888e-03\n",
      "   1.43045170e-07  0.00000000e+00]\n",
      " [-3.09035658e+00  0.00000000e+00  0.00000000e+00 ...  4.80377847e-03\n",
      "  -5.49081342e-04  0.00000000e+00]\n",
      " [-4.88755714e+00  0.00000000e+00  0.00000000e+00 ... -4.91705016e-05\n",
      "   6.70883341e-07  0.00000000e+00]\n",
      " ...\n",
      " [-8.92159114e+00  0.00000000e+00  0.00000000e+00 ... -1.21158443e-04\n",
      "   1.16363919e-05  0.00000000e+00]\n",
      " [-4.77586600e+00  0.00000000e+00  0.00000000e+00 ... -1.12679536e-03\n",
      "   8.70543585e-05  0.00000000e+00]\n",
      " [-8.92861047e+00  0.00000000e+00  0.00000000e+00 ... -3.74805784e-04\n",
      "   2.12748741e-05  0.00000000e+00]]\n"
     ]
    }
   ],
   "source": [
    "#compute all_theta\n",
    "lambda_ = 0.1\n",
    "all_theta = oneVsAll(X, y, 10, lambda_)\n",
    "print('theta:')\n",
    "print(all_theta)"
   ]
  },
  {
   "cell_type": "markdown",
   "metadata": {},
   "source": [
    "### 1.4.1 One-vs-all Prediction\n",
    "\n",
    "After training your one-vs-all classifier, you can now use it to predict the digit contained in a given image. For each input, you should compute the “probability” that it belongs to each class using the trained logistic regression classifiers. Your one-vs-all prediction function will pick the class for which the corresponding logistic regression classifier outputs the highest probability and return the class label (0, 1, ..., K-1) as the prediction for the input example. You should now complete the code in the function `predictOneVsAll` to use the one-vs-all classifier for making predictions. "
   ]
  },
  {
   "cell_type": "code",
   "execution_count": 11,
   "metadata": {},
   "outputs": [],
   "source": [
    "def predictOneVsAll(all_theta, X):\n",
    "    \"\"\"\n",
    "    Return a vector of predictions for each example in the matrix X. \n",
    "    Note that X contains the examples in rows. \n",
    "    all_theta = a matrix where the i-th row is a trained logistic regression theta vector for the i-th class. \n",
    "    You should set p to a vector of values from 0..K-1 \n",
    "    (i.e., p = [0, 2, 0, 1] predicts classes 0, 2, 0, 1 for 4 examples) .\n",
    "    \n",
    "    Parameters\n",
    "    ----------\n",
    "    all_theta : array_like\n",
    "        The trained parameters for logistic regression for each class.  A matrix of shape (K x n+1) where \n",
    "        K = number of classes\n",
    "        n = number of features without the bias.\n",
    "    \n",
    "    X : array_like\n",
    "        Data points to predict their labels. This is a matrix of shape (m x n) where \n",
    "        m = number of data points to predict and \n",
    "        n = number of features without the bias term. \n",
    "        Note: we add the bias term for X in this function. \n",
    "    \n",
    "    \n",
    "    Returns\n",
    "    -------\n",
    "    p : array_like\n",
    "        The predictions for each data point in X. This is a vector of shape (m, ).\n",
    "    \n",
    "    Instructions\n",
    "    ------------\n",
    "    Make predictions using your learned logistic regression parameters (one-vs-all). \n",
    "    You should set p to a vector of predictions (from 0 to num_labels-1).\n",
    "    \n",
    "    Hint\n",
    "    ----\n",
    "    This code can be done all vectorized using the numpy argmax function.\n",
    "    argmax function returns the index of the max element,\n",
    "    for more information see '?np.argmax' or search online. \n",
    "    If your examples are in rows, then, you can use np.argmax(A, axis=1) to obtain the index of the max for each row.\n",
    "    \"\"\"\n",
    "    # set useful vars\n",
    "    m = X.shape[0];\n",
    "    num_labels = all_theta.shape[0]\n",
    "\n",
    "    # need to return the following variables correctly \n",
    "    p = np.zeros(m)\n",
    "\n",
    "    # Add ones to the X data matrix\n",
    "    X = np.concatenate([np.ones((m, 1)), X], axis=1)\n",
    "\n",
    "    # ====================== YOUR CODE HERE ======================\n",
    "    #predict probability of this class\n",
    "    y_hat = myML.sigmoid(np.dot(X, all_theta.T))\n",
    "    \n",
    "    #find index of best predicted class\n",
    "    idx_best = np.argmax(y_hat, axis=1) #, out=p_idx)\n",
    "\n",
    "    #format to prediction\n",
    "    p = idx_best +1\n",
    "    \n",
    "    # ============================================================\n",
    "    return p\n"
   ]
  },
  {
   "cell_type": "markdown",
   "metadata": {},
   "source": [
    "Once you are done, call your `predictOneVsAll` function using the learned value of $\\theta$. You should see that the training set accuracy is about 95.1% (i.e., it classifies 95.1% of the examples in the training set correctly)."
   ]
  },
  {
   "cell_type": "code",
   "execution_count": 12,
   "metadata": {},
   "outputs": [
    {
     "name": "stdout",
     "output_type": "stream",
     "text": [
      "Training Set Accuracy:  0.9512\n",
      "Expected accuracy: 95.1 % (approx)\n",
      "\n"
     ]
    }
   ],
   "source": [
    "pred = predictOneVsAll(all_theta, X)\n",
    "print('Training Set Accuracy: ', (pred == y).mean())\n",
    "print('Expected accuracy: 95.1 % (approx)\\n')"
   ]
  },
  {
   "cell_type": "markdown",
   "metadata": {},
   "source": [
    "# 2. Neural Networks\n",
    "\n",
    "In the previous part of this exercise, you implemented multi-class logistic regression to recognize handwritten digits. However, logistic regression cannot form more complex hypotheses as it is only a linear classifier (You could add more features - such as polynomial features - to logistic regression, but that can be very expensive to train).\n",
    "\n",
    "In this part of the exercise, you will implement a neural network to recognize handwritten digits using the same training set as before. The neural network will be able to represent complex models that form non-linear hypotheses. For this week, you will be using parameters from a neural network that we have already trained. Your goal is to implement the feedforward propagation algorithm to use our weights for prediction. In next week’s exercise, you will write the backpropagation algorithm for learning the neural network parameters. \n",
    "\n",
    "We start by first reloading and visualizing the dataset which contains the MNIST handwritten digits (this is the same as we did in the first part of this exercise, we reload it here to ensure the variables have not been modified). "
   ]
  },
  {
   "cell_type": "code",
   "execution_count": 13,
   "metadata": {},
   "outputs": [
    {
     "name": "stdout",
     "output_type": "stream",
     "text": [
      "X shape:  (5000, 400)\n",
      "Preview X:  [[0. 0. 0. ... 0. 0. 0.]\n",
      " [0. 0. 0. ... 0. 0. 0.]\n",
      " [0. 0. 0. ... 0. 0. 0.]\n",
      " [0. 0. 0. ... 0. 0. 0.]\n",
      " [0. 0. 0. ... 0. 0. 0.]]\n",
      "\n",
      "y shape:  (5000,)\n",
      "Preview y:  [10 10 10 10 10]\n"
     ]
    }
   ],
   "source": [
    "X, y = data['X'], data['y'].ravel() #class numpy.ndarray\n",
    "print(\"X shape: \", X.shape)\n",
    "print(\"Preview X: \", X[:5])\n",
    "print(\"\\ny shape: \", y.shape)\n",
    "print(\"Preview y: \",y[:5])"
   ]
  },
  {
   "cell_type": "code",
   "execution_count": 14,
   "metadata": {},
   "outputs": [],
   "source": [
    "#handle values of 10 due to 0 indexing\n",
    "y[y == 10] = 0"
   ]
  },
  {
   "cell_type": "markdown",
   "metadata": {},
   "source": [
    "## 2.1 Model representation \n",
    "\n",
    "Our neural network is shown in the following figure.\n",
    "\n",
    "![Neural network](Figures/ex3_neuralnetwork.png)\n",
    "\n",
    "It has 3 layers: an input layer, a hidden layer and an output layer. Recall that our inputs are pixel values of digit images. Since the images are of size 20×20, this gives us 400 input layer units (excluding the extra bias unit which always outputs +1). As before, the training data will be loaded into the variables X and y. \n",
    "\n",
    "You have been provided with a set of network parameters ($\\Theta^{(1)}$, $\\Theta^{(2)}$) already trained by us. These are stored in `ex3weights.mat`. The following cell loads those parameters into  `Theta1` and `Theta2`. The parameters have dimensions that are sized for a neural network with 25 units in the second layer and 10 output units (corresponding to the 10 digit classes)."
   ]
  },
  {
   "cell_type": "code",
   "execution_count": 15,
   "metadata": {},
   "outputs": [
    {
     "name": "stdout",
     "output_type": "stream",
     "text": [
      "dict_keys(['__header__', '__version__', '__globals__', 'Theta1', 'Theta2'])\n"
     ]
    }
   ],
   "source": [
    "# Setup the parameters you will use for this exercise\n",
    "input_layer_size  = 400  # 20x20 Input Images of Digits\n",
    "hidden_layer_size = 25   # 25 hidden units\n",
    "num_labels = 10          # 10 labels, from 0 to 9\n",
    "\n",
    "# Load the .mat file, which returns a dictionary \n",
    "weights = loadmat('data/ex3/ex3weights.mat') #class dict\n",
    "#preview dict object\n",
    "print(weights.keys())\n",
    "\n",
    "# get the model weights from the dictionary\n",
    "# Theta1 has size 25 x 401\n",
    "# Theta2 has size 10 x 26\n",
    "Theta1, Theta2 = weights['Theta1'], weights['Theta2']\n",
    "\n",
    "# swap first and last columns of Theta2, due to legacy from MATLAB indexing, \n",
    "# since the weight file ex3weights.mat was saved based on MATLAB indexing\n",
    "Theta2 = np.roll(Theta2, 1, axis=0)"
   ]
  },
  {
   "cell_type": "markdown",
   "metadata": {},
   "source": [
    "<a id=\"section4\"></a>\n",
    "## 2.2 Feedforward Propagation and Prediction\n",
    "\n",
    "Now you will implement feedforward propagation for the neural network. You will need to complete the code in the function `predict` to return the neural network’s prediction. You should implement the feedforward computation that computes $h_\\theta(x^{(i)})$ for every example $i$ and returns the associated predictions. Similar to the one-vs-all classification strategy, the prediction from the neural network will be the label that has the largest output $\\left( h_\\theta(x) \\right)_k$.\n",
    "\n",
    "<div class=\"alert alert-box alert-warning\">\n",
    "**Implementation Note:** The matrix $X$ contains the examples in rows. When you complete the code in the function `predict`, you will need to add the column of 1’s to the matrix. The matrices `Theta1` and `Theta2` contain the parameters for each unit in rows. Specifically, the first row of `Theta1` corresponds to the first hidden unit in the second layer. In `numpy`, when you compute $z^{(2)} = \\theta^{(1)}a^{(1)}$, be sure that you index (and if necessary, transpose) $X$ correctly so that you get $a^{(l)}$ as a 1-D vector.\n",
    "</div>\n",
    "<a id=\"predict\"></a>"
   ]
  },
  {
   "cell_type": "code",
   "execution_count": 16,
   "metadata": {},
   "outputs": [],
   "source": [
    "def predict(Theta1, Theta2, X):\n",
    "    \"\"\"\n",
    "    Predict the label of an input given a trained neural network.\n",
    "    \n",
    "    Parameters\n",
    "    ----------\n",
    "    Theta1 : array_like\n",
    "        Weights for the first layer in the neural network.\n",
    "        It has shape (2nd hidden layer size x input size)\n",
    "    \n",
    "    Theta2: array_like\n",
    "        Weights for the second layer in the neural network. \n",
    "        It has shape (output layer size x 2nd hidden layer size)\n",
    "    \n",
    "    X : array_like\n",
    "        The image inputs having shape (number of examples x image dimensions).\n",
    "    \n",
    "    Return \n",
    "    ------\n",
    "    p : array_like\n",
    "        Predictions vector containing the predicted label for each example.\n",
    "        It has a length equal to the number of examples.\n",
    "    \n",
    "    Instructions\n",
    "    ------------\n",
    "    Make predictions using your learned neural network. \n",
    "    You should set p to a vector containing labels between 0 to (num_labels-1).\n",
    "     \n",
    "    Hint\n",
    "    ----\n",
    "    This code can be done all vectorized using the numpy argmax function.\n",
    "    In particular, the argmax function returns the index of the  max element,\n",
    "    for more information see '?np.argmax' or search online. \n",
    "    If your examples are in rows, then, you can use np.argmax(A, axis=1) to obtain the index of the max for each row.\n",
    "    \n",
    "    Note\n",
    "    ----\n",
    "    Reuse `sigmoid` function in myUtils.\n",
    "    Replace `z` by the required input variable to sigmoid.\n",
    "    \"\"\"\n",
    "    # Make sure the input has two dimensions\n",
    "    if X.ndim == 1:\n",
    "        X = X[None]  # promote to 2-dimensions\n",
    "    \n",
    "    # Some useful variables\n",
    "    m = X.shape[0]\n",
    "    \n",
    "    # Add ones to the input X data matrix\n",
    "    X = np.concatenate([np.ones((m, 1)), X], axis=1)\n",
    "    \n",
    "    # You need to return the following variables correctly \n",
    "    p = np.zeros(X.shape[0])\n",
    "\n",
    "    # ====================== YOUR CODE HERE ======================\n",
    "    \n",
    "    #compute 2nd (hidden) layer a2\n",
    "    a2 = myML.sigmoid(np.dot(X, Theta1.T)) #dims (5000x401) x (401x25) => dims 5000x25\n",
    "    \n",
    "    # Add ones to the a2 (2nd layer) data matrix\n",
    "    a2 = np.concatenate([np.ones((m, 1)), a2], axis=1)\n",
    "    \n",
    "    #compute output layer a3 \n",
    "    a3 = myML.sigmoid(np.dot(a2, Theta2.T)) #dims (5000x26) x (26x10) => dims 5000x10\n",
    "    #a3 represents the output layer, or probability of each class, each record with 10 probabilities\n",
    "    \n",
    "    #find index of best predicted class\n",
    "    idx_best = np.argmax(a3, axis=1)\n",
    "\n",
    "    #format to prediction\n",
    "    p = idx_best #dims (5000,) vector\n",
    "\n",
    "    # =============================================================\n",
    "    return p\n"
   ]
  },
  {
   "cell_type": "markdown",
   "metadata": {},
   "source": [
    "Once you are done, call your predict function using the loaded set of parameters for `Theta1` and `Theta2`. You should see that the accuracy is about 97.5%."
   ]
  },
  {
   "cell_type": "code",
   "execution_count": 17,
   "metadata": {},
   "outputs": [
    {
     "name": "stdout",
     "output_type": "stream",
     "text": [
      "Prediction shape:  (5000,)\n",
      "Training Set Accuracy: 0.975%\n",
      "Expected accuracy: 97.5 % (approx)\n",
      "\n"
     ]
    }
   ],
   "source": [
    "#call predict function\n",
    "pred = predict(Theta1, Theta2, X)\n",
    "print(\"Prediction shape: \", pred.shape)\n",
    "print('Training Set Accuracy: {:.3f}%'.format((pred == y).mean()))\n",
    "print('Expected accuracy: 97.5 % (approx)\\n')"
   ]
  },
  {
   "cell_type": "markdown",
   "metadata": {},
   "source": [
    "After that, we will display images from the training set one at a time, while at the same time printing out the predicted label for the displayed image. \n",
    "\n",
    "Run the following cell to display a single image the the neural network's prediction. You can run the cell multiple time to see predictions for different images."
   ]
  },
  {
   "cell_type": "code",
   "execution_count": 18,
   "metadata": {},
   "outputs": [
    {
     "name": "stdout",
     "output_type": "stream",
     "text": [
      "[4 7 7 1 7 0 2 9 4 9 2 3 1 5 3 1 6 4 8 2 8 5 8 7 2]\n"
     ]
    },
    {
     "data": {
      "image/png": "[encoded data removed]",
      "text/plain": [
       "<Figure size 360x360 with 25 Axes>"
      ]
     },
     "metadata": {},
     "output_type": "display_data"
    }
   ],
   "source": [
    "pred = predict(Theta1, Theta2, X[idx_random])\n",
    "print(pred.ravel())\n",
    "displayData(X[idx_random], figsize= (5,5))"
   ]
  },
  {
   "cell_type": "code",
   "execution_count": 19,
   "metadata": {},
   "outputs": [
    {
     "ename": "NameError",
     "evalue": "name 'stop' is not defined",
     "output_type": "error",
     "traceback": [
      "\u001b[0;31m---------------------------------------------------------------------------\u001b[0m",
      "\u001b[0;31mNameError\u001b[0m                                 Traceback (most recent call last)",
      "\u001b[0;32m<ipython-input-19-4f76a9dad686>\u001b[0m in \u001b[0;36m<module>\u001b[0;34m()\u001b[0m\n\u001b[0;32m----> 1\u001b[0;31m \u001b[0mstop\u001b[0m\u001b[0;34m\u001b[0m\u001b[0;34m\u001b[0m\u001b[0m\n\u001b[0m",
      "\u001b[0;31mNameError\u001b[0m: name 'stop' is not defined"
     ]
    }
   ],
   "source": [
    "stop"
   ]
  },
  {
   "cell_type": "markdown",
   "metadata": {},
   "source": [
    "## Xtra"
   ]
  },
  {
   "cell_type": "code",
   "execution_count": null,
   "metadata": {},
   "outputs": [],
   "source": []
  },
  {
   "cell_type": "code",
   "execution_count": null,
   "metadata": {},
   "outputs": [],
   "source": [
    "#$xtra: for troubleshooting only: logReg regularized here\n",
    "#use myML\n",
    "def costFunctionReg_LogisticR(theta, X, y, lambda_=1):\n",
    "    \"\"\"\n",
    "    Compute cost and gradient for logistic regression with regularization.\n",
    "\n",
    "    Parameters\n",
    "    ----------\n",
    "    theta : array_like\n",
    "        Logistic regression parameters. A vector with shape (n, ).\n",
    "        n = number of features including any intercept.\n",
    "        If we have mapped our initial features into polynomial features, then\n",
    "        n = the total number of polynomial features.\n",
    "\n",
    "    X : array_like\n",
    "        The input dataset with shape (m x n) where\n",
    "        m = total number of data points and\n",
    "        n = number of features (after feature mapping).\n",
    "        We assume the intercept has already been added to the input.\n",
    "\n",
    "    y : array_like\n",
    "        The data labels. A vector with shape (m, ).\n",
    "\n",
    "    lambda_ : float\n",
    "        The regularization parameter.\n",
    "\n",
    "    Returns\n",
    "    -------\n",
    "    J : float\n",
    "        The computed value for the regularized cost function.\n",
    "\n",
    "    grad : array_like\n",
    "        A vector of shape (n, ) which is the gradient of the cost J with respect to theta, at the current values of theta.\n",
    "\n",
    "    Instructions\n",
    "    ------------\n",
    "    Compute J cost of a particular choice of theta.\n",
    "    Compute the partial derivatives and set grad to the partial derivatives of the cost w.r.t. each param in theta.\n",
    "    Note: Remember not to regularize param theta0 => explicitly exlude theta0 from cost function J\n",
    "\n",
    "    myNotes revised\n",
    "    =========\n",
    "    y_hat = X * theta => (m, n+1) x (n+1, ) x  => shape (m, )     (same as y)\n",
    "    error = y_hat - y =>                          shape (m, )     (same as y)\n",
    "    gradient = vector                             shape (n+1, )   (same as theta)\n",
    "    X.T * (error/m) => (n+1, m) x (m, 1) =>       shape (n+1, )\n",
    "\n",
    "    to multiply: use np.dot(X, theta)\n",
    "\n",
    "    refer: https://docs.scipy.org/doc/numpy/reference/generated/numpy.dot.html\n",
    "    \"\"\"\n",
    "    ##print(\"fn theta shape: \", theta.shape)\n",
    "    \n",
    "\n",
    "    # Initialize vars\n",
    "    m = y.size  # number of training examples\n",
    "\n",
    "    # convert labels to ints if their type is bool\n",
    "    if y.dtype == bool:\n",
    "        y = y.astype(int)\n",
    "\n",
    "    # Return the following variables correctly\n",
    "    J = 0\n",
    "    grad = np.zeros(theta.shape)\n",
    "\n",
    "    # ====================== YOUR CODE HERE ======================\n",
    "    # compute hypothesis\n",
    "    # for linear regression was: y_hat = np.dot( X, theta)\n",
    "    # for logistic regression\n",
    "    ##print(\"fn theta shape: \", theta.shape)\n",
    "    y_hat = myML.sigmoid(np.dot(X, theta))\n",
    "    ##print(\"fn y_hat shape: \",y_hat.shape)\n",
    "\n",
    "    # compute cost\n",
    "    ##print(\"part 1 y: \", y.shape)\n",
    "    ##print(\"part 1: \", np.log(y_hat).shape)\n",
    "    part1 = -y * np.log(y_hat)\n",
    "    part2 = (1 - y) * np.log(1 - y_hat)\n",
    "    # exclude theta0 from regularizing\n",
    "    J = ((part1 - part2).sum() / m) + (lambda_ * (theta[1:] ** 2).sum() / (2 * m))\n",
    "\n",
    "    # compute gradient -> hint: same dimension as theta, see myNotes\n",
    "    # error = y_hat - y\n",
    "    # grad = np.dot(X.T, (error/m))\n",
    "\n",
    "    # exclude theta0 from regularizing => separately compute gradient0\n",
    "    grad[0] = np.dot(X[:, 0], (y_hat - y) / m)  # returns a scalar (1 x m) x (m x 1), same for np.dot((m,)x(m,))\n",
    "\n",
    "    # y_hat_rest = myML.sigmoid( np.dot(X[:,1:], theta[1:]))\n",
    "    grad[1:] = np.dot(X[:, 1:].T, (y_hat - y) / m) + (lambda_ * theta[1:] / m)  # same dims as theta - 1\n",
    "\n",
    "    # =============================================================\n",
    "    return J, grad\n"
   ]
  }
 ],
 "metadata": {
  "kernelspec": {
   "display_name": "Python 3",
   "language": "python",
   "name": "python3"
  },
  "language_info": {
   "codemirror_mode": {
    "name": "ipython",
    "version": 3
   },
   "file_extension": ".py",
   "mimetype": "text/x-python",
   "name": "python",
   "nbconvert_exporter": "python",
   "pygments_lexer": "ipython3",
   "version": "3.6.7"
  }
 },
 "nbformat": 4,
 "nbformat_minor": 2
}
